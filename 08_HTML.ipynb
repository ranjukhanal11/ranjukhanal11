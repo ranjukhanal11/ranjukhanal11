{
  "nbformat": 4,
  "nbformat_minor": 0,
  "metadata": {
    "colab": {
      "name": "08_HTML.ipynb",
      "provenance": [],
      "include_colab_link": true
    },
    "kernelspec": {
      "name": "python3",
      "display_name": "Python 3"
    },
    "language_info": {
      "name": "python"
    }
  },
  "cells": [
    {
      "cell_type": "markdown",
      "metadata": {
        "id": "view-in-github",
        "colab_type": "text"
      },
      "source": [
        "<a href=\"https://colab.research.google.com/github/ranjukhanal11/ranjukhanal11/blob/main/08_HTML.ipynb\" target=\"_parent\"><img src=\"https://colab.research.google.com/assets/colab-badge.svg\" alt=\"Open In Colab\"/></a>"
      ]
    },
    {
      "cell_type": "markdown",
      "source": [
        "# Importing Libraries"
      ],
      "metadata": {
        "id": "5WjXMrFeR7Ha"
      }
    },
    {
      "cell_type": "code",
      "execution_count": 5,
      "metadata": {
        "id": "bC1cwz6oNyK-"
      },
      "outputs": [],
      "source": [
        "import requests\n",
        "import pandas as pa\n",
        "from bs4 import BeautifulSoup"
      ]
    },
    {
      "cell_type": "markdown",
      "source": [
        "# Making Requests"
      ],
      "metadata": {
        "id": "5CUmshWNR_in"
      }
    },
    {
      "cell_type": "code",
      "source": [
        "r = requests.get('https://en.wikipedia.org/wiki/Kitchen_Nightmares?wprov=srpw1_2')\n",
        "html_contents = r.text\n",
        "html_soup = BeautifulSoup(html_contents,\"lxml\")"
      ],
      "metadata": {
        "id": "yGjGpwiBN8nS"
      },
      "execution_count": 2,
      "outputs": []
    },
    {
      "cell_type": "markdown",
      "source": [
        "# Extracting Title"
      ],
      "metadata": {
        "id": "n1RAAK6eSBfP"
      }
    },
    {
      "cell_type": "code",
      "source": [
        "html_soup.title"
      ],
      "metadata": {
        "colab": {
          "base_uri": "https://localhost:8080/"
        },
        "id": "wkCaVcSXOIHh",
        "outputId": "d15fbcc7-b217-40b7-c219-479ff023f324"
      },
      "execution_count": 3,
      "outputs": [
        {
          "output_type": "execute_result",
          "data": {
            "text/plain": [
              "<title>Kitchen Nightmares - Wikipedia</title>"
            ]
          },
          "metadata": {},
          "execution_count": 3
        }
      ]
    },
    {
      "cell_type": "markdown",
      "source": [
        "# Extracting Links"
      ],
      "metadata": {
        "id": "QbtpPvsjSDu-"
      }
    },
    {
      "cell_type": "code",
      "source": [
        "links = html_soup.table.find_all('a')\n",
        "listOfURLS = []\n",
        "\n",
        "for link in links:\n",
        "  listOfURLS.append('https://en.wikipedia.org' + link['href'])\n",
        "\n",
        "listOfURLS"
      ],
      "metadata": {
        "colab": {
          "base_uri": "https://localhost:8080/"
        },
        "id": "5o11rtbCOnww",
        "outputId": "57b2f373-5ddf-4562-a1b2-da0bfddb3b66"
      },
      "execution_count": 4,
      "outputs": [
        {
          "output_type": "execute_result",
          "data": {
            "text/plain": [
              "['https://en.wikipedia.org/wiki/File:Kitchen_Nightmares.png',\n",
              " 'https://en.wikipedia.org/wiki/Reality_television',\n",
              " 'https://en.wikipedia.org/wiki/Ramsay%27s_Kitchen_Nightmares',\n",
              " 'https://en.wikipedia.org/wiki/Gordon_Ramsay',\n",
              " 'https://en.wikipedia.org/wiki/Arthur_Smith_(producer)',\n",
              " 'https://en.wikipedia.org/wiki/Gordon_Kennedy_(actor)',\n",
              " 'https://en.wikipedia.org/wiki/Misirlou',\n",
              " 'https://en.wikipedia.org/wiki/David_Vanacore',\n",
              " 'https://en.wikipedia.org/wiki/Patricia_Llewellyn',\n",
              " 'https://en.wikipedia.org/wiki/Gordon_Ramsay',\n",
              " 'https://en.wikipedia.org/wiki/Optomen',\n",
              " 'https://en.wikipedia.org/wiki/ITV_Studios#ITV_Studios_America',\n",
              " 'https://en.wikipedia.org/wiki/ITV_Studios',\n",
              " 'https://en.wikipedia.org/wiki/All3Media',\n",
              " 'https://en.wikipedia.org/wiki/Fox_Broadcasting_Company',\n",
              " 'https://en.wikipedia.orghttps://web.archive.org/web/20121011154109/http://www.fox.com/kitchennightmares/']"
            ]
          },
          "metadata": {},
          "execution_count": 4
        }
      ]
    }
  ]
}