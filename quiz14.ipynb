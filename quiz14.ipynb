{
  "nbformat": 4,
  "nbformat_minor": 0,
  "metadata": {
    "colab": {
      "name": "quiz14.ipynb",
      "provenance": [],
      "include_colab_link": true
    },
    "kernelspec": {
      "name": "python3",
      "display_name": "Python 3"
    },
    "language_info": {
      "name": "python"
    }
  },
  "cells": [
    {
      "cell_type": "markdown",
      "metadata": {
        "id": "view-in-github",
        "colab_type": "text"
      },
      "source": [
        "<a href=\"https://colab.research.google.com/github/ranjukhanal11/ranjukhanal11/blob/main/quiz14.ipynb\" target=\"_parent\"><img src=\"https://colab.research.google.com/assets/colab-badge.svg\" alt=\"Open In Colab\"/></a>"
      ]
    },
    {
      "cell_type": "markdown",
      "source": [
        "Write a program to print the 'Happy Birthday' song including your name. Try to do it with as few strings as possible."
      ],
      "metadata": {
        "id": "0q7cjSFsR4Kd"
      }
    },
    {
      "cell_type": "code",
      "source": [
        "myname = 'Ranju Khanal'\n",
        "print(\"Happy Birthday to you!\")\n",
        "print(\"Happy Birthday to you!\")\n",
        "print(\"Happy Birthday, dear \" + myname + \".\")\n",
        "print(\"Happy Birthday to you!\")"
      ],
      "metadata": {
        "colab": {
          "base_uri": "https://localhost:8080/"
        },
        "id": "TGlwAd6xR6fj",
        "outputId": "0bef7d00-e014-4892-fe52-a7a94dc36789"
      },
      "execution_count": null,
      "outputs": [
        {
          "output_type": "stream",
          "name": "stdout",
          "text": [
            "Happy Birthday to you!\n",
            "Happy Birthday to you!\n",
            "Happy Birthday, dear Ranju Khanal.\n",
            "Happy Birthday to you!\n"
          ]
        }
      ]
    }
  ]
}