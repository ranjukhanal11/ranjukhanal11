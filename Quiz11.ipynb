{
  "nbformat": 4,
  "nbformat_minor": 0,
  "metadata": {
    "colab": {
      "name": "Quiz11.ipynb",
      "provenance": [],
      "include_colab_link": true
    },
    "kernelspec": {
      "name": "python3",
      "display_name": "Python 3"
    },
    "language_info": {
      "name": "python"
    }
  },
  "cells": [
    {
      "cell_type": "markdown",
      "metadata": {
        "id": "view-in-github",
        "colab_type": "text"
      },
      "source": [
        "<a href=\"https://colab.research.google.com/github/ranjukhanal11/ranjukhanal11/blob/main/Quiz11.ipynb\" target=\"_parent\"><img src=\"https://colab.research.google.com/assets/colab-badge.svg\" alt=\"Open In Colab\"/></a>"
      ]
    },
    {
      "cell_type": "code",
      "execution_count": null,
      "metadata": {
        "id": "_bcAJ5wIHlXO"
      },
      "outputs": [],
      "source": [
        "import twitter\n",
        "import config\n",
        "\n",
        "CONSUMER_KEY = config.CONSUMER_KEY\n",
        "CONSUMER_SECRET = config.CONSUMER_SECRET\n",
        "OAUTH_TOKEN = config.OAUTH_TOKEN\n",
        "OAUTH_TOKEN_SECRET = config.OAUTH_TOKEN_SECRET\n",
        "auth = twitter.oauth.OAuth(OAUTH_TOKEN, OAUTH_TOKEN_SECRET,\n",
        "                           CONSUMER_KEY, CONSUMER_SECRET)\n",
        "\n",
        "mathcs_twitter_api = twitter.Twitter(auth=auth)"
      ]
    },
    {
      "cell_type": "code",
      "source": [
        "WORLD_WOE_ID = 1\n",
        "US_WOE_ID = 23424977\n",
        "\n",
        "world_trends = nurfnick_twitter_api.trends.place(_id=WORLD_WOE_ID)\n",
        "\n",
        "for i in range(10):\n",
        "    print(world_trends[0]['trends'][i]['query'])"
      ],
      "metadata": {
        "id": "yOkB7MFkIyEf"
      },
      "execution_count": null,
      "outputs": []
    },
    {
      "cell_type": "code",
      "source": [
        "import json\n",
        "\n",
        "print(json.dumps(world_trends, indent=1))"
      ],
      "metadata": {
        "id": "5AisM56uJFKM"
      },
      "execution_count": null,
      "outputs": []
    },
    {
      "cell_type": "code",
      "source": [
        "import json\n",
        "\n",
        "\n",
        "#q = \"#Ada\"\n",
        "q = '#TomCruise'\n",
        "\n",
        "count = 100\n",
        "search_results = mathcs_twitter_api.search.tweets(q=q, count=count)\n",
        "\n",
        "statuses = search_results['statuses']\n",
        "\n",
        "\n",
        "# Iterate through 5 more batches of results by following the cursor\n",
        "\n",
        "for _ in range(5):\n",
        "    print(\"Length of statuses\", len(statuses))\n",
        "    try:\n",
        "        next_results = search_results['search_metadata']['next_results']\n",
        "    except KeyError: # No more results when next_results doesn't exist\n",
        "        break\n",
        "        \n",
        "    # Create a dictionary from next_results, which has the following form:\n",
        "    # ?max_id=313519052523986943&q=NCAA&include_entities=1\n",
        "    kwargs = dict([ kv.split('=') for kv in next_results[1:].split(\"&\") ])\n",
        "    \n",
        "    search_results = mathcs_twitter_api.search.tweets(**kwargs)\n",
        "    statuses += search_results['statuses']\n",
        "\n",
        "# Show one sample search result by slicing the list...\n",
        "print(json.dumps(statuses, indent=4))"
      ],
      "metadata": {
        "id": "wIpdXl1SJMAU"
      },
      "execution_count": null,
      "outputs": []
    }
  ]
}