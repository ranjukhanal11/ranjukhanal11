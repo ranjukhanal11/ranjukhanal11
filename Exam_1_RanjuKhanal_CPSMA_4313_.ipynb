{
  "nbformat": 4,
  "nbformat_minor": 0,
  "metadata": {
    "colab": {
      "name": "Exam_1_RanjuKhanal_CPSMA_4313 .ipynb",
      "provenance": [],
      "include_colab_link": true
    },
    "kernelspec": {
      "name": "python3",
      "display_name": "Python 3"
    },
    "language_info": {
      "name": "python"
    }
  },
  "cells": [
    {
      "cell_type": "markdown",
      "metadata": {
        "id": "view-in-github",
        "colab_type": "text"
      },
      "source": [
        "<a href=\"https://colab.research.google.com/github/ranjukhanal11/ranjukhanal11/blob/main/Exam_1_RanjuKhanal_CPSMA_4313_.ipynb\" target=\"_parent\"><img src=\"https://colab.research.google.com/assets/colab-badge.svg\" alt=\"Open In Colab\"/></a>"
      ]
    },
    {
      "cell_type": "markdown",
      "source": [
        "**Question 1 Part a**"
      ],
      "metadata": {
        "id": "OoZFas6aRpZH"
      }
    },
    {
      "cell_type": "code",
      "execution_count": 1,
      "metadata": {
        "id": "xaddhc_2OslQ"
      },
      "outputs": [],
      "source": [
        "import requests\n",
        "import pandas as pa\n",
        "from bs4 import BeautifulSoup\n",
        "\n",
        "\n",
        "r = requests.get('https://en.wikipedia.org/wiki/List_of_mountains_by_elevation')\n",
        "html_contents = r.text\n",
        "html_soup = BeautifulSoup(html_contents,\"lxml\")"
      ]
    },
    {
      "cell_type": "code",
      "source": [
        "len(html_soup.find_all('table'))"
      ],
      "metadata": {
        "colab": {
          "base_uri": "https://localhost:8080/"
        },
        "id": "JMYz03p6Pj3J",
        "outputId": "e38e94f4-6f26-4af7-be85-af891d4671b9"
      },
      "execution_count": 2,
      "outputs": [
        {
          "output_type": "execute_result",
          "data": {
            "text/plain": [
              "9"
            ]
          },
          "metadata": {},
          "execution_count": 2
        }
      ]
    },
    {
      "cell_type": "code",
      "source": [
        "df = pa.read_html(str(html_soup.find('table')))[0]"
      ],
      "metadata": {
        "id": "x_B5YQRiPlgv"
      },
      "execution_count": 3,
      "outputs": []
    },
    {
      "cell_type": "code",
      "source": [
        "df"
      ],
      "metadata": {
        "colab": {
          "base_uri": "https://localhost:8080/",
          "height": 488
        },
        "id": "jU5q4T_EPvlm",
        "outputId": "a2c539fc-9c4a-44ab-f8f3-beed914fd835"
      },
      "execution_count": 4,
      "outputs": [
        {
          "output_type": "execute_result",
          "data": {
            "text/html": [
              "\n",
              "  <div id=\"df-87aacbf1-59f2-430f-8da0-fafcc093b27e\">\n",
              "    <div class=\"colab-df-container\">\n",
              "      <div>\n",
              "<style scoped>\n",
              "    .dataframe tbody tr th:only-of-type {\n",
              "        vertical-align: middle;\n",
              "    }\n",
              "\n",
              "    .dataframe tbody tr th {\n",
              "        vertical-align: top;\n",
              "    }\n",
              "\n",
              "    .dataframe thead th {\n",
              "        text-align: right;\n",
              "    }\n",
              "</style>\n",
              "<table border=\"1\" class=\"dataframe\">\n",
              "  <thead>\n",
              "    <tr style=\"text-align: right;\">\n",
              "      <th></th>\n",
              "      <th>Mountain</th>\n",
              "      <th>Metres</th>\n",
              "      <th>Feet</th>\n",
              "      <th>Range</th>\n",
              "      <th>Location and Notes</th>\n",
              "    </tr>\n",
              "  </thead>\n",
              "  <tbody>\n",
              "    <tr>\n",
              "      <th>0</th>\n",
              "      <td>Mount Everest</td>\n",
              "      <td>8848</td>\n",
              "      <td>29029</td>\n",
              "      <td>Himalayas</td>\n",
              "      <td>Nepal/China</td>\n",
              "    </tr>\n",
              "    <tr>\n",
              "      <th>1</th>\n",
              "      <td>K2</td>\n",
              "      <td>8611</td>\n",
              "      <td>28251</td>\n",
              "      <td>Karakoram</td>\n",
              "      <td>Pakistan/China</td>\n",
              "    </tr>\n",
              "    <tr>\n",
              "      <th>2</th>\n",
              "      <td>Kangchenjunga</td>\n",
              "      <td>8586</td>\n",
              "      <td>28169</td>\n",
              "      <td>Himalayas</td>\n",
              "      <td>Nepal/India</td>\n",
              "    </tr>\n",
              "    <tr>\n",
              "      <th>3</th>\n",
              "      <td>Lhotse</td>\n",
              "      <td>8516</td>\n",
              "      <td>27940</td>\n",
              "      <td>Himalayas</td>\n",
              "      <td>Nepal – Climbers ascend Lhotse Face in climbin...</td>\n",
              "    </tr>\n",
              "    <tr>\n",
              "      <th>4</th>\n",
              "      <td>Makalu</td>\n",
              "      <td>8485</td>\n",
              "      <td>27838</td>\n",
              "      <td>Himalayas</td>\n",
              "      <td>Nepal</td>\n",
              "    </tr>\n",
              "    <tr>\n",
              "      <th>5</th>\n",
              "      <td>Cho Oyu</td>\n",
              "      <td>8188</td>\n",
              "      <td>26864</td>\n",
              "      <td>Himalayas</td>\n",
              "      <td>Nepal – Considered \"easiest\" eight-thousander</td>\n",
              "    </tr>\n",
              "    <tr>\n",
              "      <th>6</th>\n",
              "      <td>Dhaulagiri</td>\n",
              "      <td>8167</td>\n",
              "      <td>26795</td>\n",
              "      <td>Himalayas</td>\n",
              "      <td>Nepal – Presumed world's highest from 1808-1838</td>\n",
              "    </tr>\n",
              "    <tr>\n",
              "      <th>7</th>\n",
              "      <td>Manaslu</td>\n",
              "      <td>8163</td>\n",
              "      <td>26781</td>\n",
              "      <td>Himalayas</td>\n",
              "      <td>Nepal</td>\n",
              "    </tr>\n",
              "    <tr>\n",
              "      <th>8</th>\n",
              "      <td>Nanga Parbat</td>\n",
              "      <td>8126</td>\n",
              "      <td>26660</td>\n",
              "      <td>Himalayas</td>\n",
              "      <td>Pakistan</td>\n",
              "    </tr>\n",
              "    <tr>\n",
              "      <th>9</th>\n",
              "      <td>Annapurna</td>\n",
              "      <td>8091</td>\n",
              "      <td>26545</td>\n",
              "      <td>Himalayas</td>\n",
              "      <td>Nepal – First eight-thousander to be climbed (...</td>\n",
              "    </tr>\n",
              "    <tr>\n",
              "      <th>10</th>\n",
              "      <td>Gasherbrum I (Hidden peak; K5)</td>\n",
              "      <td>8080</td>\n",
              "      <td>26509</td>\n",
              "      <td>Karakoram</td>\n",
              "      <td>Pakistan /China – Originally named K5</td>\n",
              "    </tr>\n",
              "    <tr>\n",
              "      <th>11</th>\n",
              "      <td>Broad Peak</td>\n",
              "      <td>8051</td>\n",
              "      <td>26414</td>\n",
              "      <td>Karakoram</td>\n",
              "      <td>Pakistan /China</td>\n",
              "    </tr>\n",
              "    <tr>\n",
              "      <th>12</th>\n",
              "      <td>Gasherbrum II (K4)</td>\n",
              "      <td>8035</td>\n",
              "      <td>26362</td>\n",
              "      <td>Karakoram</td>\n",
              "      <td>Pakistan/China – Originally named K4</td>\n",
              "    </tr>\n",
              "    <tr>\n",
              "      <th>13</th>\n",
              "      <td>Shishapangma</td>\n",
              "      <td>8027</td>\n",
              "      <td>26335</td>\n",
              "      <td>Himalayas</td>\n",
              "      <td>China</td>\n",
              "    </tr>\n",
              "  </tbody>\n",
              "</table>\n",
              "</div>\n",
              "      <button class=\"colab-df-convert\" onclick=\"convertToInteractive('df-87aacbf1-59f2-430f-8da0-fafcc093b27e')\"\n",
              "              title=\"Convert this dataframe to an interactive table.\"\n",
              "              style=\"display:none;\">\n",
              "        \n",
              "  <svg xmlns=\"http://www.w3.org/2000/svg\" height=\"24px\"viewBox=\"0 0 24 24\"\n",
              "       width=\"24px\">\n",
              "    <path d=\"M0 0h24v24H0V0z\" fill=\"none\"/>\n",
              "    <path d=\"M18.56 5.44l.94 2.06.94-2.06 2.06-.94-2.06-.94-.94-2.06-.94 2.06-2.06.94zm-11 1L8.5 8.5l.94-2.06 2.06-.94-2.06-.94L8.5 2.5l-.94 2.06-2.06.94zm10 10l.94 2.06.94-2.06 2.06-.94-2.06-.94-.94-2.06-.94 2.06-2.06.94z\"/><path d=\"M17.41 7.96l-1.37-1.37c-.4-.4-.92-.59-1.43-.59-.52 0-1.04.2-1.43.59L10.3 9.45l-7.72 7.72c-.78.78-.78 2.05 0 2.83L4 21.41c.39.39.9.59 1.41.59.51 0 1.02-.2 1.41-.59l7.78-7.78 2.81-2.81c.8-.78.8-2.07 0-2.86zM5.41 20L4 18.59l7.72-7.72 1.47 1.35L5.41 20z\"/>\n",
              "  </svg>\n",
              "      </button>\n",
              "      \n",
              "  <style>\n",
              "    .colab-df-container {\n",
              "      display:flex;\n",
              "      flex-wrap:wrap;\n",
              "      gap: 12px;\n",
              "    }\n",
              "\n",
              "    .colab-df-convert {\n",
              "      background-color: #E8F0FE;\n",
              "      border: none;\n",
              "      border-radius: 50%;\n",
              "      cursor: pointer;\n",
              "      display: none;\n",
              "      fill: #1967D2;\n",
              "      height: 32px;\n",
              "      padding: 0 0 0 0;\n",
              "      width: 32px;\n",
              "    }\n",
              "\n",
              "    .colab-df-convert:hover {\n",
              "      background-color: #E2EBFA;\n",
              "      box-shadow: 0px 1px 2px rgba(60, 64, 67, 0.3), 0px 1px 3px 1px rgba(60, 64, 67, 0.15);\n",
              "      fill: #174EA6;\n",
              "    }\n",
              "\n",
              "    [theme=dark] .colab-df-convert {\n",
              "      background-color: #3B4455;\n",
              "      fill: #D2E3FC;\n",
              "    }\n",
              "\n",
              "    [theme=dark] .colab-df-convert:hover {\n",
              "      background-color: #434B5C;\n",
              "      box-shadow: 0px 1px 3px 1px rgba(0, 0, 0, 0.15);\n",
              "      filter: drop-shadow(0px 1px 2px rgba(0, 0, 0, 0.3));\n",
              "      fill: #FFFFFF;\n",
              "    }\n",
              "  </style>\n",
              "\n",
              "      <script>\n",
              "        const buttonEl =\n",
              "          document.querySelector('#df-87aacbf1-59f2-430f-8da0-fafcc093b27e button.colab-df-convert');\n",
              "        buttonEl.style.display =\n",
              "          google.colab.kernel.accessAllowed ? 'block' : 'none';\n",
              "\n",
              "        async function convertToInteractive(key) {\n",
              "          const element = document.querySelector('#df-87aacbf1-59f2-430f-8da0-fafcc093b27e');\n",
              "          const dataTable =\n",
              "            await google.colab.kernel.invokeFunction('convertToInteractive',\n",
              "                                                     [key], {});\n",
              "          if (!dataTable) return;\n",
              "\n",
              "          const docLinkHtml = 'Like what you see? Visit the ' +\n",
              "            '<a target=\"_blank\" href=https://colab.research.google.com/notebooks/data_table.ipynb>data table notebook</a>'\n",
              "            + ' to learn more about interactive tables.';\n",
              "          element.innerHTML = '';\n",
              "          dataTable['output_type'] = 'display_data';\n",
              "          await google.colab.output.renderOutput(dataTable, element);\n",
              "          const docLink = document.createElement('div');\n",
              "          docLink.innerHTML = docLinkHtml;\n",
              "          element.appendChild(docLink);\n",
              "        }\n",
              "      </script>\n",
              "    </div>\n",
              "  </div>\n",
              "  "
            ],
            "text/plain": [
              "                          Mountain  ...                                 Location and Notes\n",
              "0                    Mount Everest  ...                                        Nepal/China\n",
              "1                               K2  ...                                     Pakistan/China\n",
              "2                    Kangchenjunga  ...                                        Nepal/India\n",
              "3                           Lhotse  ...  Nepal – Climbers ascend Lhotse Face in climbin...\n",
              "4                           Makalu  ...                                              Nepal\n",
              "5                          Cho Oyu  ...      Nepal – Considered \"easiest\" eight-thousander\n",
              "6                       Dhaulagiri  ...    Nepal – Presumed world's highest from 1808-1838\n",
              "7                          Manaslu  ...                                              Nepal\n",
              "8                     Nanga Parbat  ...                                           Pakistan\n",
              "9                        Annapurna  ...  Nepal – First eight-thousander to be climbed (...\n",
              "10  Gasherbrum I (Hidden peak; K5)  ...              Pakistan /China – Originally named K5\n",
              "11                      Broad Peak  ...                                    Pakistan /China\n",
              "12              Gasherbrum II (K4)  ...               Pakistan/China – Originally named K4\n",
              "13                    Shishapangma  ...                                              China\n",
              "\n",
              "[14 rows x 5 columns]"
            ]
          },
          "metadata": {},
          "execution_count": 4
        }
      ]
    },
    {
      "cell_type": "markdown",
      "source": [
        "**Part b**"
      ],
      "metadata": {
        "id": "gIJzwHg1R3Zg"
      }
    },
    {
      "cell_type": "code",
      "source": [
        "rslt_df = df[df['Range'] == 'Himalayas']"
      ],
      "metadata": {
        "id": "Sb3kmtIaRWOc"
      },
      "execution_count": 5,
      "outputs": []
    },
    {
      "cell_type": "code",
      "source": [
        "rslt_df"
      ],
      "metadata": {
        "colab": {
          "base_uri": "https://localhost:8080/",
          "height": 362
        },
        "id": "23kt54wlRdY3",
        "outputId": "821f1b0c-d89a-4dc3-df14-d0fe2a77db12"
      },
      "execution_count": 6,
      "outputs": [
        {
          "output_type": "execute_result",
          "data": {
            "text/html": [
              "\n",
              "  <div id=\"df-985caa1c-f089-4d0b-9c69-23fc4f2d375c\">\n",
              "    <div class=\"colab-df-container\">\n",
              "      <div>\n",
              "<style scoped>\n",
              "    .dataframe tbody tr th:only-of-type {\n",
              "        vertical-align: middle;\n",
              "    }\n",
              "\n",
              "    .dataframe tbody tr th {\n",
              "        vertical-align: top;\n",
              "    }\n",
              "\n",
              "    .dataframe thead th {\n",
              "        text-align: right;\n",
              "    }\n",
              "</style>\n",
              "<table border=\"1\" class=\"dataframe\">\n",
              "  <thead>\n",
              "    <tr style=\"text-align: right;\">\n",
              "      <th></th>\n",
              "      <th>Mountain</th>\n",
              "      <th>Metres</th>\n",
              "      <th>Feet</th>\n",
              "      <th>Range</th>\n",
              "      <th>Location and Notes</th>\n",
              "    </tr>\n",
              "  </thead>\n",
              "  <tbody>\n",
              "    <tr>\n",
              "      <th>0</th>\n",
              "      <td>Mount Everest</td>\n",
              "      <td>8848</td>\n",
              "      <td>29029</td>\n",
              "      <td>Himalayas</td>\n",
              "      <td>Nepal/China</td>\n",
              "    </tr>\n",
              "    <tr>\n",
              "      <th>2</th>\n",
              "      <td>Kangchenjunga</td>\n",
              "      <td>8586</td>\n",
              "      <td>28169</td>\n",
              "      <td>Himalayas</td>\n",
              "      <td>Nepal/India</td>\n",
              "    </tr>\n",
              "    <tr>\n",
              "      <th>3</th>\n",
              "      <td>Lhotse</td>\n",
              "      <td>8516</td>\n",
              "      <td>27940</td>\n",
              "      <td>Himalayas</td>\n",
              "      <td>Nepal – Climbers ascend Lhotse Face in climbin...</td>\n",
              "    </tr>\n",
              "    <tr>\n",
              "      <th>4</th>\n",
              "      <td>Makalu</td>\n",
              "      <td>8485</td>\n",
              "      <td>27838</td>\n",
              "      <td>Himalayas</td>\n",
              "      <td>Nepal</td>\n",
              "    </tr>\n",
              "    <tr>\n",
              "      <th>5</th>\n",
              "      <td>Cho Oyu</td>\n",
              "      <td>8188</td>\n",
              "      <td>26864</td>\n",
              "      <td>Himalayas</td>\n",
              "      <td>Nepal – Considered \"easiest\" eight-thousander</td>\n",
              "    </tr>\n",
              "    <tr>\n",
              "      <th>6</th>\n",
              "      <td>Dhaulagiri</td>\n",
              "      <td>8167</td>\n",
              "      <td>26795</td>\n",
              "      <td>Himalayas</td>\n",
              "      <td>Nepal – Presumed world's highest from 1808-1838</td>\n",
              "    </tr>\n",
              "    <tr>\n",
              "      <th>7</th>\n",
              "      <td>Manaslu</td>\n",
              "      <td>8163</td>\n",
              "      <td>26781</td>\n",
              "      <td>Himalayas</td>\n",
              "      <td>Nepal</td>\n",
              "    </tr>\n",
              "    <tr>\n",
              "      <th>8</th>\n",
              "      <td>Nanga Parbat</td>\n",
              "      <td>8126</td>\n",
              "      <td>26660</td>\n",
              "      <td>Himalayas</td>\n",
              "      <td>Pakistan</td>\n",
              "    </tr>\n",
              "    <tr>\n",
              "      <th>9</th>\n",
              "      <td>Annapurna</td>\n",
              "      <td>8091</td>\n",
              "      <td>26545</td>\n",
              "      <td>Himalayas</td>\n",
              "      <td>Nepal – First eight-thousander to be climbed (...</td>\n",
              "    </tr>\n",
              "    <tr>\n",
              "      <th>13</th>\n",
              "      <td>Shishapangma</td>\n",
              "      <td>8027</td>\n",
              "      <td>26335</td>\n",
              "      <td>Himalayas</td>\n",
              "      <td>China</td>\n",
              "    </tr>\n",
              "  </tbody>\n",
              "</table>\n",
              "</div>\n",
              "      <button class=\"colab-df-convert\" onclick=\"convertToInteractive('df-985caa1c-f089-4d0b-9c69-23fc4f2d375c')\"\n",
              "              title=\"Convert this dataframe to an interactive table.\"\n",
              "              style=\"display:none;\">\n",
              "        \n",
              "  <svg xmlns=\"http://www.w3.org/2000/svg\" height=\"24px\"viewBox=\"0 0 24 24\"\n",
              "       width=\"24px\">\n",
              "    <path d=\"M0 0h24v24H0V0z\" fill=\"none\"/>\n",
              "    <path d=\"M18.56 5.44l.94 2.06.94-2.06 2.06-.94-2.06-.94-.94-2.06-.94 2.06-2.06.94zm-11 1L8.5 8.5l.94-2.06 2.06-.94-2.06-.94L8.5 2.5l-.94 2.06-2.06.94zm10 10l.94 2.06.94-2.06 2.06-.94-2.06-.94-.94-2.06-.94 2.06-2.06.94z\"/><path d=\"M17.41 7.96l-1.37-1.37c-.4-.4-.92-.59-1.43-.59-.52 0-1.04.2-1.43.59L10.3 9.45l-7.72 7.72c-.78.78-.78 2.05 0 2.83L4 21.41c.39.39.9.59 1.41.59.51 0 1.02-.2 1.41-.59l7.78-7.78 2.81-2.81c.8-.78.8-2.07 0-2.86zM5.41 20L4 18.59l7.72-7.72 1.47 1.35L5.41 20z\"/>\n",
              "  </svg>\n",
              "      </button>\n",
              "      \n",
              "  <style>\n",
              "    .colab-df-container {\n",
              "      display:flex;\n",
              "      flex-wrap:wrap;\n",
              "      gap: 12px;\n",
              "    }\n",
              "\n",
              "    .colab-df-convert {\n",
              "      background-color: #E8F0FE;\n",
              "      border: none;\n",
              "      border-radius: 50%;\n",
              "      cursor: pointer;\n",
              "      display: none;\n",
              "      fill: #1967D2;\n",
              "      height: 32px;\n",
              "      padding: 0 0 0 0;\n",
              "      width: 32px;\n",
              "    }\n",
              "\n",
              "    .colab-df-convert:hover {\n",
              "      background-color: #E2EBFA;\n",
              "      box-shadow: 0px 1px 2px rgba(60, 64, 67, 0.3), 0px 1px 3px 1px rgba(60, 64, 67, 0.15);\n",
              "      fill: #174EA6;\n",
              "    }\n",
              "\n",
              "    [theme=dark] .colab-df-convert {\n",
              "      background-color: #3B4455;\n",
              "      fill: #D2E3FC;\n",
              "    }\n",
              "\n",
              "    [theme=dark] .colab-df-convert:hover {\n",
              "      background-color: #434B5C;\n",
              "      box-shadow: 0px 1px 3px 1px rgba(0, 0, 0, 0.15);\n",
              "      filter: drop-shadow(0px 1px 2px rgba(0, 0, 0, 0.3));\n",
              "      fill: #FFFFFF;\n",
              "    }\n",
              "  </style>\n",
              "\n",
              "      <script>\n",
              "        const buttonEl =\n",
              "          document.querySelector('#df-985caa1c-f089-4d0b-9c69-23fc4f2d375c button.colab-df-convert');\n",
              "        buttonEl.style.display =\n",
              "          google.colab.kernel.accessAllowed ? 'block' : 'none';\n",
              "\n",
              "        async function convertToInteractive(key) {\n",
              "          const element = document.querySelector('#df-985caa1c-f089-4d0b-9c69-23fc4f2d375c');\n",
              "          const dataTable =\n",
              "            await google.colab.kernel.invokeFunction('convertToInteractive',\n",
              "                                                     [key], {});\n",
              "          if (!dataTable) return;\n",
              "\n",
              "          const docLinkHtml = 'Like what you see? Visit the ' +\n",
              "            '<a target=\"_blank\" href=https://colab.research.google.com/notebooks/data_table.ipynb>data table notebook</a>'\n",
              "            + ' to learn more about interactive tables.';\n",
              "          element.innerHTML = '';\n",
              "          dataTable['output_type'] = 'display_data';\n",
              "          await google.colab.output.renderOutput(dataTable, element);\n",
              "          const docLink = document.createElement('div');\n",
              "          docLink.innerHTML = docLinkHtml;\n",
              "          element.appendChild(docLink);\n",
              "        }\n",
              "      </script>\n",
              "    </div>\n",
              "  </div>\n",
              "  "
            ],
            "text/plain": [
              "         Mountain  ...                                 Location and Notes\n",
              "0   Mount Everest  ...                                        Nepal/China\n",
              "2   Kangchenjunga  ...                                        Nepal/India\n",
              "3          Lhotse  ...  Nepal – Climbers ascend Lhotse Face in climbin...\n",
              "4          Makalu  ...                                              Nepal\n",
              "5         Cho Oyu  ...      Nepal – Considered \"easiest\" eight-thousander\n",
              "6      Dhaulagiri  ...    Nepal – Presumed world's highest from 1808-1838\n",
              "7         Manaslu  ...                                              Nepal\n",
              "8    Nanga Parbat  ...                                           Pakistan\n",
              "9       Annapurna  ...  Nepal – First eight-thousander to be climbed (...\n",
              "13   Shishapangma  ...                                              China\n",
              "\n",
              "[10 rows x 5 columns]"
            ]
          },
          "metadata": {},
          "execution_count": 6
        }
      ]
    },
    {
      "cell_type": "markdown",
      "source": [
        "**Part c**"
      ],
      "metadata": {
        "id": "dJgEKfVLSXSu"
      }
    },
    {
      "cell_type": "code",
      "source": [
        "rslt_df.plot(kind='bar' , x='Mountain');"
      ],
      "metadata": {
        "colab": {
          "base_uri": "https://localhost:8080/",
          "height": 348
        },
        "id": "qS6RCcNASOhG",
        "outputId": "d8f663bd-7132-4b96-a26c-15108d0f6944"
      },
      "execution_count": 7,
      "outputs": [
        {
          "output_type": "display_data",
          "data": {
            "image/png": "[encoded data removed]",
            "text/plain": [
              "<Figure size 432x288 with 1 Axes>"
            ]
          },
          "metadata": {
            "needs_background": "light"
          }
        }
      ]
    },
    {
      "cell_type": "markdown",
      "source": [
        "**Part d**"
      ],
      "metadata": {
        "id": "2kX8Qp9USfw3"
      }
    },
    {
      "cell_type": "code",
      "source": [
        "rslt_df[['Feet']].boxplot()"
      ],
      "metadata": {
        "colab": {
          "base_uri": "https://localhost:8080/",
          "height": 282
        },
        "id": "F-jkP2GwSh0d",
        "outputId": "7b4c2283-581a-446f-f9ba-fde32344e9f6"
      },
      "execution_count": 8,
      "outputs": [
        {
          "output_type": "execute_result",
          "data": {
            "text/plain": [
              "<matplotlib.axes._subplots.AxesSubplot at 0x7f8417a14690>"
            ]
          },
          "metadata": {},
          "execution_count": 8
        },
        {
          "output_type": "display_data",
          "data": {
            "image/png": "[encoded data removed]",
            "text/plain": [
              "<Figure size 432x288 with 1 Axes>"
            ]
          },
          "metadata": {
            "needs_background": "light"
          }
        }
      ]
    },
    {
      "cell_type": "markdown",
      "source": [
        "**Part e**"
      ],
      "metadata": {
        "id": "SclLdlTZTo6o"
      }
    },
    {
      "cell_type": "code",
      "source": [
        "import math\n",
        "import numpy"
      ],
      "metadata": {
        "id": "WvRPez7IXmvg"
      },
      "execution_count": 9,
      "outputs": []
    },
    {
      "cell_type": "code",
      "source": [
        "x = rslt_df[['Feet']]\n",
        "print(\"Minimum\", numpy.min(x))\n",
        "print(\"Maximum\",numpy.max(x))\n",
        "print(\"Standard Deviation\",numpy.std(x))\n",
        "print(\"Mean\",numpy.mean(x))\n",
        "print(\"Median\",numpy.median(x))"
      ],
      "metadata": {
        "colab": {
          "base_uri": "https://localhost:8080/"
        },
        "id": "H6FJUoPxXqIO",
        "outputId": "786f4d69-307d-48df-be18-64b245f6bbef"
      },
      "execution_count": 10,
      "outputs": [
        {
          "output_type": "stream",
          "name": "stdout",
          "text": [
            "Minimum Feet    26335\n",
            "dtype: int64\n",
            "Maximum Feet    29029\n",
            "dtype: int64\n",
            "Standard Deviation Feet    840.760632\n",
            "dtype: float64\n",
            "Mean Feet    27295.6\n",
            "dtype: float64\n",
            "Median 26829.5\n"
          ]
        }
      ]
    },
    {
      "cell_type": "markdown",
      "source": [
        "**Part f**"
      ],
      "metadata": {
        "id": "FMZqi-zSY3eW"
      }
    },
    {
      "cell_type": "code",
      "source": [
        " #Report the mean and median of mountains when grouped by their Range.\n",
        "\n",
        "df.groupby('Range').mean()\n"
      ],
      "metadata": {
        "colab": {
          "base_uri": "https://localhost:8080/",
          "height": 144
        },
        "id": "f6G2TJ3iY5st",
        "outputId": "1ac0bad1-2b9d-47fb-a63c-ad3711e33cc3"
      },
      "execution_count": 11,
      "outputs": [
        {
          "output_type": "execute_result",
          "data": {
            "text/html": [
              "\n",
              "  <div id=\"df-c42dd845-fa5c-4e62-8ea1-2b63f5583ad8\">\n",
              "    <div class=\"colab-df-container\">\n",
              "      <div>\n",
              "<style scoped>\n",
              "    .dataframe tbody tr th:only-of-type {\n",
              "        vertical-align: middle;\n",
              "    }\n",
              "\n",
              "    .dataframe tbody tr th {\n",
              "        vertical-align: top;\n",
              "    }\n",
              "\n",
              "    .dataframe thead th {\n",
              "        text-align: right;\n",
              "    }\n",
              "</style>\n",
              "<table border=\"1\" class=\"dataframe\">\n",
              "  <thead>\n",
              "    <tr style=\"text-align: right;\">\n",
              "      <th></th>\n",
              "      <th>Metres</th>\n",
              "      <th>Feet</th>\n",
              "    </tr>\n",
              "    <tr>\n",
              "      <th>Range</th>\n",
              "      <th></th>\n",
              "      <th></th>\n",
              "    </tr>\n",
              "  </thead>\n",
              "  <tbody>\n",
              "    <tr>\n",
              "      <th>Himalayas</th>\n",
              "      <td>8319.70</td>\n",
              "      <td>27295.6</td>\n",
              "    </tr>\n",
              "    <tr>\n",
              "      <th>Karakoram</th>\n",
              "      <td>8194.25</td>\n",
              "      <td>26884.0</td>\n",
              "    </tr>\n",
              "  </tbody>\n",
              "</table>\n",
              "</div>\n",
              "      <button class=\"colab-df-convert\" onclick=\"convertToInteractive('df-c42dd845-fa5c-4e62-8ea1-2b63f5583ad8')\"\n",
              "              title=\"Convert this dataframe to an interactive table.\"\n",
              "              style=\"display:none;\">\n",
              "        \n",
              "  <svg xmlns=\"http://www.w3.org/2000/svg\" height=\"24px\"viewBox=\"0 0 24 24\"\n",
              "       width=\"24px\">\n",
              "    <path d=\"M0 0h24v24H0V0z\" fill=\"none\"/>\n",
              "    <path d=\"M18.56 5.44l.94 2.06.94-2.06 2.06-.94-2.06-.94-.94-2.06-.94 2.06-2.06.94zm-11 1L8.5 8.5l.94-2.06 2.06-.94-2.06-.94L8.5 2.5l-.94 2.06-2.06.94zm10 10l.94 2.06.94-2.06 2.06-.94-2.06-.94-.94-2.06-.94 2.06-2.06.94z\"/><path d=\"M17.41 7.96l-1.37-1.37c-.4-.4-.92-.59-1.43-.59-.52 0-1.04.2-1.43.59L10.3 9.45l-7.72 7.72c-.78.78-.78 2.05 0 2.83L4 21.41c.39.39.9.59 1.41.59.51 0 1.02-.2 1.41-.59l7.78-7.78 2.81-2.81c.8-.78.8-2.07 0-2.86zM5.41 20L4 18.59l7.72-7.72 1.47 1.35L5.41 20z\"/>\n",
              "  </svg>\n",
              "      </button>\n",
              "      \n",
              "  <style>\n",
              "    .colab-df-container {\n",
              "      display:flex;\n",
              "      flex-wrap:wrap;\n",
              "      gap: 12px;\n",
              "    }\n",
              "\n",
              "    .colab-df-convert {\n",
              "      background-color: #E8F0FE;\n",
              "      border: none;\n",
              "      border-radius: 50%;\n",
              "      cursor: pointer;\n",
              "      display: none;\n",
              "      fill: #1967D2;\n",
              "      height: 32px;\n",
              "      padding: 0 0 0 0;\n",
              "      width: 32px;\n",
              "    }\n",
              "\n",
              "    .colab-df-convert:hover {\n",
              "      background-color: #E2EBFA;\n",
              "      box-shadow: 0px 1px 2px rgba(60, 64, 67, 0.3), 0px 1px 3px 1px rgba(60, 64, 67, 0.15);\n",
              "      fill: #174EA6;\n",
              "    }\n",
              "\n",
              "    [theme=dark] .colab-df-convert {\n",
              "      background-color: #3B4455;\n",
              "      fill: #D2E3FC;\n",
              "    }\n",
              "\n",
              "    [theme=dark] .colab-df-convert:hover {\n",
              "      background-color: #434B5C;\n",
              "      box-shadow: 0px 1px 3px 1px rgba(0, 0, 0, 0.15);\n",
              "      filter: drop-shadow(0px 1px 2px rgba(0, 0, 0, 0.3));\n",
              "      fill: #FFFFFF;\n",
              "    }\n",
              "  </style>\n",
              "\n",
              "      <script>\n",
              "        const buttonEl =\n",
              "          document.querySelector('#df-c42dd845-fa5c-4e62-8ea1-2b63f5583ad8 button.colab-df-convert');\n",
              "        buttonEl.style.display =\n",
              "          google.colab.kernel.accessAllowed ? 'block' : 'none';\n",
              "\n",
              "        async function convertToInteractive(key) {\n",
              "          const element = document.querySelector('#df-c42dd845-fa5c-4e62-8ea1-2b63f5583ad8');\n",
              "          const dataTable =\n",
              "            await google.colab.kernel.invokeFunction('convertToInteractive',\n",
              "                                                     [key], {});\n",
              "          if (!dataTable) return;\n",
              "\n",
              "          const docLinkHtml = 'Like what you see? Visit the ' +\n",
              "            '<a target=\"_blank\" href=https://colab.research.google.com/notebooks/data_table.ipynb>data table notebook</a>'\n",
              "            + ' to learn more about interactive tables.';\n",
              "          element.innerHTML = '';\n",
              "          dataTable['output_type'] = 'display_data';\n",
              "          await google.colab.output.renderOutput(dataTable, element);\n",
              "          const docLink = document.createElement('div');\n",
              "          docLink.innerHTML = docLinkHtml;\n",
              "          element.appendChild(docLink);\n",
              "        }\n",
              "      </script>\n",
              "    </div>\n",
              "  </div>\n",
              "  "
            ],
            "text/plain": [
              "            Metres     Feet\n",
              "Range                      \n",
              "Himalayas  8319.70  27295.6\n",
              "Karakoram  8194.25  26884.0"
            ]
          },
          "metadata": {},
          "execution_count": 11
        }
      ]
    },
    {
      "cell_type": "code",
      "source": [
        " #Report the mean and median of mountains when grouped by their Range.\n",
        "\n",
        "df.groupby('Range').median()"
      ],
      "metadata": {
        "colab": {
          "base_uri": "https://localhost:8080/",
          "height": 144
        },
        "id": "gTyy9ibd1CyI",
        "outputId": "d5c48b99-ec0b-45c4-dab4-af4b243ebb74"
      },
      "execution_count": 12,
      "outputs": [
        {
          "output_type": "execute_result",
          "data": {
            "text/html": [
              "\n",
              "  <div id=\"df-a7441e91-c0d4-471b-8dd2-f839ebc11c9e\">\n",
              "    <div class=\"colab-df-container\">\n",
              "      <div>\n",
              "<style scoped>\n",
              "    .dataframe tbody tr th:only-of-type {\n",
              "        vertical-align: middle;\n",
              "    }\n",
              "\n",
              "    .dataframe tbody tr th {\n",
              "        vertical-align: top;\n",
              "    }\n",
              "\n",
              "    .dataframe thead th {\n",
              "        text-align: right;\n",
              "    }\n",
              "</style>\n",
              "<table border=\"1\" class=\"dataframe\">\n",
              "  <thead>\n",
              "    <tr style=\"text-align: right;\">\n",
              "      <th></th>\n",
              "      <th>Metres</th>\n",
              "      <th>Feet</th>\n",
              "    </tr>\n",
              "    <tr>\n",
              "      <th>Range</th>\n",
              "      <th></th>\n",
              "      <th></th>\n",
              "    </tr>\n",
              "  </thead>\n",
              "  <tbody>\n",
              "    <tr>\n",
              "      <th>Himalayas</th>\n",
              "      <td>8177.5</td>\n",
              "      <td>26829.5</td>\n",
              "    </tr>\n",
              "    <tr>\n",
              "      <th>Karakoram</th>\n",
              "      <td>8065.5</td>\n",
              "      <td>26461.5</td>\n",
              "    </tr>\n",
              "  </tbody>\n",
              "</table>\n",
              "</div>\n",
              "      <button class=\"colab-df-convert\" onclick=\"convertToInteractive('df-a7441e91-c0d4-471b-8dd2-f839ebc11c9e')\"\n",
              "              title=\"Convert this dataframe to an interactive table.\"\n",
              "              style=\"display:none;\">\n",
              "        \n",
              "  <svg xmlns=\"http://www.w3.org/2000/svg\" height=\"24px\"viewBox=\"0 0 24 24\"\n",
              "       width=\"24px\">\n",
              "    <path d=\"M0 0h24v24H0V0z\" fill=\"none\"/>\n",
              "    <path d=\"M18.56 5.44l.94 2.06.94-2.06 2.06-.94-2.06-.94-.94-2.06-.94 2.06-2.06.94zm-11 1L8.5 8.5l.94-2.06 2.06-.94-2.06-.94L8.5 2.5l-.94 2.06-2.06.94zm10 10l.94 2.06.94-2.06 2.06-.94-2.06-.94-.94-2.06-.94 2.06-2.06.94z\"/><path d=\"M17.41 7.96l-1.37-1.37c-.4-.4-.92-.59-1.43-.59-.52 0-1.04.2-1.43.59L10.3 9.45l-7.72 7.72c-.78.78-.78 2.05 0 2.83L4 21.41c.39.39.9.59 1.41.59.51 0 1.02-.2 1.41-.59l7.78-7.78 2.81-2.81c.8-.78.8-2.07 0-2.86zM5.41 20L4 18.59l7.72-7.72 1.47 1.35L5.41 20z\"/>\n",
              "  </svg>\n",
              "      </button>\n",
              "      \n",
              "  <style>\n",
              "    .colab-df-container {\n",
              "      display:flex;\n",
              "      flex-wrap:wrap;\n",
              "      gap: 12px;\n",
              "    }\n",
              "\n",
              "    .colab-df-convert {\n",
              "      background-color: #E8F0FE;\n",
              "      border: none;\n",
              "      border-radius: 50%;\n",
              "      cursor: pointer;\n",
              "      display: none;\n",
              "      fill: #1967D2;\n",
              "      height: 32px;\n",
              "      padding: 0 0 0 0;\n",
              "      width: 32px;\n",
              "    }\n",
              "\n",
              "    .colab-df-convert:hover {\n",
              "      background-color: #E2EBFA;\n",
              "      box-shadow: 0px 1px 2px rgba(60, 64, 67, 0.3), 0px 1px 3px 1px rgba(60, 64, 67, 0.15);\n",
              "      fill: #174EA6;\n",
              "    }\n",
              "\n",
              "    [theme=dark] .colab-df-convert {\n",
              "      background-color: #3B4455;\n",
              "      fill: #D2E3FC;\n",
              "    }\n",
              "\n",
              "    [theme=dark] .colab-df-convert:hover {\n",
              "      background-color: #434B5C;\n",
              "      box-shadow: 0px 1px 3px 1px rgba(0, 0, 0, 0.15);\n",
              "      filter: drop-shadow(0px 1px 2px rgba(0, 0, 0, 0.3));\n",
              "      fill: #FFFFFF;\n",
              "    }\n",
              "  </style>\n",
              "\n",
              "      <script>\n",
              "        const buttonEl =\n",
              "          document.querySelector('#df-a7441e91-c0d4-471b-8dd2-f839ebc11c9e button.colab-df-convert');\n",
              "        buttonEl.style.display =\n",
              "          google.colab.kernel.accessAllowed ? 'block' : 'none';\n",
              "\n",
              "        async function convertToInteractive(key) {\n",
              "          const element = document.querySelector('#df-a7441e91-c0d4-471b-8dd2-f839ebc11c9e');\n",
              "          const dataTable =\n",
              "            await google.colab.kernel.invokeFunction('convertToInteractive',\n",
              "                                                     [key], {});\n",
              "          if (!dataTable) return;\n",
              "\n",
              "          const docLinkHtml = 'Like what you see? Visit the ' +\n",
              "            '<a target=\"_blank\" href=https://colab.research.google.com/notebooks/data_table.ipynb>data table notebook</a>'\n",
              "            + ' to learn more about interactive tables.';\n",
              "          element.innerHTML = '';\n",
              "          dataTable['output_type'] = 'display_data';\n",
              "          await google.colab.output.renderOutput(dataTable, element);\n",
              "          const docLink = document.createElement('div');\n",
              "          docLink.innerHTML = docLinkHtml;\n",
              "          element.appendChild(docLink);\n",
              "        }\n",
              "      </script>\n",
              "    </div>\n",
              "  </div>\n",
              "  "
            ],
            "text/plain": [
              "           Metres     Feet\n",
              "Range                     \n",
              "Himalayas  8177.5  26829.5\n",
              "Karakoram  8065.5  26461.5"
            ]
          },
          "metadata": {},
          "execution_count": 12
        }
      ]
    },
    {
      "cell_type": "markdown",
      "source": [
        "**Question 2 Part a**"
      ],
      "metadata": {
        "id": "5qpWhe9D1v6w"
      }
    },
    {
      "cell_type": "code",
      "source": [
        "from google.colab import auth\n",
        "auth.authenticate_user()\n",
        "print('Authenticated')"
      ],
      "metadata": {
        "id": "YXr3Q2-r1zf9",
        "colab": {
          "base_uri": "https://localhost:8080/",
          "height": 536
        },
        "outputId": "b01e5474-b8a8-4783-d245-3926b654a6aa"
      },
      "execution_count": 13,
      "outputs": [
        {
          "output_type": "error",
          "ename": "KeyboardInterrupt",
          "evalue": "ignored",
          "traceback": [
            "\u001b[0;31m---------------------------------------------------------------------------\u001b[0m",
            "\u001b[0;31mKeyboardInterrupt\u001b[0m                         Traceback (most recent call last)",
            "\u001b[0;32m/usr/local/lib/python3.7/dist-packages/ipykernel/kernelbase.py\u001b[0m in \u001b[0;36m_input_request\u001b[0;34m(self, prompt, ident, parent, password)\u001b[0m\n\u001b[1;32m    728\u001b[0m             \u001b[0;32mtry\u001b[0m\u001b[0;34m:\u001b[0m\u001b[0;34m\u001b[0m\u001b[0;34m\u001b[0m\u001b[0m\n\u001b[0;32m--> 729\u001b[0;31m                 \u001b[0mident\u001b[0m\u001b[0;34m,\u001b[0m \u001b[0mreply\u001b[0m \u001b[0;34m=\u001b[0m \u001b[0mself\u001b[0m\u001b[0;34m.\u001b[0m\u001b[0msession\u001b[0m\u001b[0;34m.\u001b[0m\u001b[0mrecv\u001b[0m\u001b[0;34m(\u001b[0m\u001b[0mself\u001b[0m\u001b[0;34m.\u001b[0m\u001b[0mstdin_socket\u001b[0m\u001b[0;34m,\u001b[0m \u001b[0;36m0\u001b[0m\u001b[0;34m)\u001b[0m\u001b[0;34m\u001b[0m\u001b[0;34m\u001b[0m\u001b[0m\n\u001b[0m\u001b[1;32m    730\u001b[0m             \u001b[0;32mexcept\u001b[0m \u001b[0mException\u001b[0m\u001b[0;34m:\u001b[0m\u001b[0;34m\u001b[0m\u001b[0;34m\u001b[0m\u001b[0m\n",
            "\u001b[0;32m/usr/local/lib/python3.7/dist-packages/jupyter_client/session.py\u001b[0m in \u001b[0;36mrecv\u001b[0;34m(self, socket, mode, content, copy)\u001b[0m\n\u001b[1;32m    802\u001b[0m         \u001b[0;32mtry\u001b[0m\u001b[0;34m:\u001b[0m\u001b[0;34m\u001b[0m\u001b[0;34m\u001b[0m\u001b[0m\n\u001b[0;32m--> 803\u001b[0;31m             \u001b[0mmsg_list\u001b[0m \u001b[0;34m=\u001b[0m \u001b[0msocket\u001b[0m\u001b[0;34m.\u001b[0m\u001b[0mrecv_multipart\u001b[0m\u001b[0;34m(\u001b[0m\u001b[0mmode\u001b[0m\u001b[0;34m,\u001b[0m \u001b[0mcopy\u001b[0m\u001b[0;34m=\u001b[0m\u001b[0mcopy\u001b[0m\u001b[0;34m)\u001b[0m\u001b[0;34m\u001b[0m\u001b[0;34m\u001b[0m\u001b[0m\n\u001b[0m\u001b[1;32m    804\u001b[0m         \u001b[0;32mexcept\u001b[0m \u001b[0mzmq\u001b[0m\u001b[0;34m.\u001b[0m\u001b[0mZMQError\u001b[0m \u001b[0;32mas\u001b[0m \u001b[0me\u001b[0m\u001b[0;34m:\u001b[0m\u001b[0;34m\u001b[0m\u001b[0;34m\u001b[0m\u001b[0m\n",
            "\u001b[0;32m/usr/local/lib/python3.7/dist-packages/zmq/sugar/socket.py\u001b[0m in \u001b[0;36mrecv_multipart\u001b[0;34m(self, flags, copy, track)\u001b[0m\n\u001b[1;32m    624\u001b[0m         \"\"\"\n\u001b[0;32m--> 625\u001b[0;31m         \u001b[0mparts\u001b[0m \u001b[0;34m=\u001b[0m \u001b[0;34m[\u001b[0m\u001b[0mself\u001b[0m\u001b[0;34m.\u001b[0m\u001b[0mrecv\u001b[0m\u001b[0;34m(\u001b[0m\u001b[0mflags\u001b[0m\u001b[0;34m,\u001b[0m \u001b[0mcopy\u001b[0m\u001b[0;34m=\u001b[0m\u001b[0mcopy\u001b[0m\u001b[0;34m,\u001b[0m \u001b[0mtrack\u001b[0m\u001b[0;34m=\u001b[0m\u001b[0mtrack\u001b[0m\u001b[0;34m)\u001b[0m\u001b[0;34m]\u001b[0m\u001b[0;34m\u001b[0m\u001b[0;34m\u001b[0m\u001b[0m\n\u001b[0m\u001b[1;32m    626\u001b[0m         \u001b[0;31m# have first part already, only loop while more to receive\u001b[0m\u001b[0;34m\u001b[0m\u001b[0;34m\u001b[0m\u001b[0;34m\u001b[0m\u001b[0m\n",
            "\u001b[0;32mzmq/backend/cython/socket.pyx\u001b[0m in \u001b[0;36mzmq.backend.cython.socket.Socket.recv\u001b[0;34m()\u001b[0m\n",
            "\u001b[0;32mzmq/backend/cython/socket.pyx\u001b[0m in \u001b[0;36mzmq.backend.cython.socket.Socket.recv\u001b[0;34m()\u001b[0m\n",
            "\u001b[0;32mzmq/backend/cython/socket.pyx\u001b[0m in \u001b[0;36mzmq.backend.cython.socket._recv_copy\u001b[0;34m()\u001b[0m\n",
            "\u001b[0;32m/usr/local/lib/python3.7/dist-packages/zmq/backend/cython/checkrc.pxd\u001b[0m in \u001b[0;36mzmq.backend.cython.checkrc._check_rc\u001b[0;34m()\u001b[0m\n",
            "\u001b[0;31mKeyboardInterrupt\u001b[0m: ",
            "\nDuring handling of the above exception, another exception occurred:\n",
            "\u001b[0;31mKeyboardInterrupt\u001b[0m                         Traceback (most recent call last)",
            "\u001b[0;32m<ipython-input-13-93f8cbc33ddf>\u001b[0m in \u001b[0;36m<module>\u001b[0;34m()\u001b[0m\n\u001b[1;32m      1\u001b[0m \u001b[0;32mfrom\u001b[0m \u001b[0mgoogle\u001b[0m\u001b[0;34m.\u001b[0m\u001b[0mcolab\u001b[0m \u001b[0;32mimport\u001b[0m \u001b[0mauth\u001b[0m\u001b[0;34m\u001b[0m\u001b[0;34m\u001b[0m\u001b[0m\n\u001b[0;32m----> 2\u001b[0;31m \u001b[0mauth\u001b[0m\u001b[0;34m.\u001b[0m\u001b[0mauthenticate_user\u001b[0m\u001b[0;34m(\u001b[0m\u001b[0;34m)\u001b[0m\u001b[0;34m\u001b[0m\u001b[0;34m\u001b[0m\u001b[0m\n\u001b[0m\u001b[1;32m      3\u001b[0m \u001b[0mprint\u001b[0m\u001b[0;34m(\u001b[0m\u001b[0;34m'Authenticated'\u001b[0m\u001b[0;34m)\u001b[0m\u001b[0;34m\u001b[0m\u001b[0;34m\u001b[0m\u001b[0m\n",
            "\u001b[0;32m/usr/local/lib/python3.7/dist-packages/google/colab/auth.py\u001b[0m in \u001b[0;36mauthenticate_user\u001b[0;34m(clear_output)\u001b[0m\n\u001b[1;32m    151\u001b[0m     \u001b[0mcontext_manager\u001b[0m \u001b[0;34m=\u001b[0m \u001b[0m_output\u001b[0m\u001b[0;34m.\u001b[0m\u001b[0mtemporary\u001b[0m \u001b[0;32mif\u001b[0m \u001b[0mclear_output\u001b[0m \u001b[0;32melse\u001b[0m \u001b[0m_noop\u001b[0m\u001b[0;34m\u001b[0m\u001b[0;34m\u001b[0m\u001b[0m\n\u001b[1;32m    152\u001b[0m     \u001b[0;32mwith\u001b[0m \u001b[0mcontext_manager\u001b[0m\u001b[0;34m(\u001b[0m\u001b[0;34m)\u001b[0m\u001b[0;34m:\u001b[0m\u001b[0;34m\u001b[0m\u001b[0;34m\u001b[0m\u001b[0m\n\u001b[0;32m--> 153\u001b[0;31m       \u001b[0m_gcloud_login\u001b[0m\u001b[0;34m(\u001b[0m\u001b[0;34m)\u001b[0m\u001b[0;34m\u001b[0m\u001b[0;34m\u001b[0m\u001b[0m\n\u001b[0m\u001b[1;32m    154\u001b[0m     \u001b[0m_install_adc\u001b[0m\u001b[0;34m(\u001b[0m\u001b[0;34m)\u001b[0m\u001b[0;34m\u001b[0m\u001b[0;34m\u001b[0m\u001b[0m\n\u001b[1;32m    155\u001b[0m     \u001b[0mcolab_tpu_addr\u001b[0m \u001b[0;34m=\u001b[0m \u001b[0m_os\u001b[0m\u001b[0;34m.\u001b[0m\u001b[0menviron\u001b[0m\u001b[0;34m.\u001b[0m\u001b[0mget\u001b[0m\u001b[0;34m(\u001b[0m\u001b[0;34m'COLAB_TPU_ADDR'\u001b[0m\u001b[0;34m,\u001b[0m \u001b[0;34m''\u001b[0m\u001b[0;34m)\u001b[0m\u001b[0;34m\u001b[0m\u001b[0;34m\u001b[0m\u001b[0m\n",
            "\u001b[0;32m/usr/local/lib/python3.7/dist-packages/google/colab/auth.py\u001b[0m in \u001b[0;36m_gcloud_login\u001b[0;34m()\u001b[0m\n\u001b[1;32m     93\u001b[0m     \u001b[0;31m# https://github.com/jupyter/notebook/issues/3159\u001b[0m\u001b[0;34m\u001b[0m\u001b[0;34m\u001b[0m\u001b[0;34m\u001b[0m\u001b[0m\n\u001b[1;32m     94\u001b[0m     \u001b[0mprompt\u001b[0m \u001b[0;34m=\u001b[0m \u001b[0mprompt\u001b[0m\u001b[0;34m.\u001b[0m\u001b[0mrstrip\u001b[0m\u001b[0;34m(\u001b[0m\u001b[0;34m)\u001b[0m\u001b[0;34m\u001b[0m\u001b[0;34m\u001b[0m\u001b[0m\n\u001b[0;32m---> 95\u001b[0;31m     \u001b[0mcode\u001b[0m \u001b[0;34m=\u001b[0m \u001b[0mget_code\u001b[0m\u001b[0;34m(\u001b[0m\u001b[0mprompt\u001b[0m \u001b[0;34m+\u001b[0m \u001b[0;34m' '\u001b[0m\u001b[0;34m)\u001b[0m\u001b[0;34m\u001b[0m\u001b[0;34m\u001b[0m\u001b[0m\n\u001b[0m\u001b[1;32m     96\u001b[0m     \u001b[0mgcloud_process\u001b[0m\u001b[0;34m.\u001b[0m\u001b[0mcommunicate\u001b[0m\u001b[0;34m(\u001b[0m\u001b[0mcode\u001b[0m\u001b[0;34m.\u001b[0m\u001b[0mstrip\u001b[0m\u001b[0;34m(\u001b[0m\u001b[0;34m)\u001b[0m\u001b[0;34m)\u001b[0m\u001b[0;34m\u001b[0m\u001b[0;34m\u001b[0m\u001b[0m\n\u001b[1;32m     97\u001b[0m   \u001b[0;32mfinally\u001b[0m\u001b[0;34m:\u001b[0m\u001b[0;34m\u001b[0m\u001b[0;34m\u001b[0m\u001b[0m\n",
            "\u001b[0;32m/usr/local/lib/python3.7/dist-packages/ipykernel/kernelbase.py\u001b[0m in \u001b[0;36mraw_input\u001b[0;34m(self, prompt)\u001b[0m\n\u001b[1;32m    702\u001b[0m             \u001b[0mself\u001b[0m\u001b[0;34m.\u001b[0m\u001b[0m_parent_ident\u001b[0m\u001b[0;34m,\u001b[0m\u001b[0;34m\u001b[0m\u001b[0;34m\u001b[0m\u001b[0m\n\u001b[1;32m    703\u001b[0m             \u001b[0mself\u001b[0m\u001b[0;34m.\u001b[0m\u001b[0m_parent_header\u001b[0m\u001b[0;34m,\u001b[0m\u001b[0;34m\u001b[0m\u001b[0;34m\u001b[0m\u001b[0m\n\u001b[0;32m--> 704\u001b[0;31m             \u001b[0mpassword\u001b[0m\u001b[0;34m=\u001b[0m\u001b[0;32mFalse\u001b[0m\u001b[0;34m,\u001b[0m\u001b[0;34m\u001b[0m\u001b[0;34m\u001b[0m\u001b[0m\n\u001b[0m\u001b[1;32m    705\u001b[0m         )\n\u001b[1;32m    706\u001b[0m \u001b[0;34m\u001b[0m\u001b[0m\n",
            "\u001b[0;32m/usr/local/lib/python3.7/dist-packages/ipykernel/kernelbase.py\u001b[0m in \u001b[0;36m_input_request\u001b[0;34m(self, prompt, ident, parent, password)\u001b[0m\n\u001b[1;32m    732\u001b[0m             \u001b[0;32mexcept\u001b[0m \u001b[0mKeyboardInterrupt\u001b[0m\u001b[0;34m:\u001b[0m\u001b[0;34m\u001b[0m\u001b[0;34m\u001b[0m\u001b[0m\n\u001b[1;32m    733\u001b[0m                 \u001b[0;31m# re-raise KeyboardInterrupt, to truncate traceback\u001b[0m\u001b[0;34m\u001b[0m\u001b[0;34m\u001b[0m\u001b[0;34m\u001b[0m\u001b[0m\n\u001b[0;32m--> 734\u001b[0;31m                 \u001b[0;32mraise\u001b[0m \u001b[0mKeyboardInterrupt\u001b[0m\u001b[0;34m\u001b[0m\u001b[0;34m\u001b[0m\u001b[0m\n\u001b[0m\u001b[1;32m    735\u001b[0m             \u001b[0;32melse\u001b[0m\u001b[0;34m:\u001b[0m\u001b[0;34m\u001b[0m\u001b[0;34m\u001b[0m\u001b[0m\n\u001b[1;32m    736\u001b[0m                 \u001b[0;32mbreak\u001b[0m\u001b[0;34m\u001b[0m\u001b[0;34m\u001b[0m\u001b[0m\n",
            "\u001b[0;31mKeyboardInterrupt\u001b[0m: "
          ]
        }
      ]
    },
    {
      "cell_type": "code",
      "source": [
        "%%bigquery --project exam-one\n",
        "select count(*) from bigquery-public-data.chicago_taxi_trips.taxi_trips"
      ],
      "metadata": {
        "id": "KWnNrcbrBHKd"
      },
      "execution_count": null,
      "outputs": []
    },
    {
      "cell_type": "markdown",
      "source": [
        "Results : 198792903\n"
      ],
      "metadata": {
        "id": "epQlfxYCBDm2"
      }
    },
    {
      "cell_type": "code",
      "source": [
        "%%bigquery --project exam-one\n",
        "select avg(trip_total) as AverageTotolTime, payment_type from bigquery-public-data.chicago_taxi_trips.taxi_trips group by payment_type"
      ],
      "metadata": {
        "id": "rqv84-cuBsa2"
      },
      "execution_count": null,
      "outputs": []
    },
    {
      "cell_type": "markdown",
      "source": [
        "Results:\n",
        "\n",
        "\n",
        "\n",
        " ![Capture.JPG](data:image/jpeg;base64,/9j/4AAQSkZJRgABAQEAYABgAAD/4RD6RXhpZgAATU0AKgAAAAgABAE7AAIAAAAQAAAISodpAAQAAAABAAAIWpydAAEAAAAgAAAQ0uocAAcAAAgMAAAAPgAAAAAc6gAAAAgAAAAAAAAAAAAAAAAAAAAAAAAAAAAAAAAAAAAAAAAAAAAAAAAAAAAAAAAAAAAAAAAAAAAAAAAAAAAAAAAAAAAAAAAAAAAAAAAAAAAAAAAAAAAAAAAAAAAAAAAAAAAAAAAAAAAAAAAAAAAAAAAAAAAAAAAAAAAAAAAAAAAAAAAAAAAAAAAAAAAAAAAAAAAAAAAAAAAAAAAAAAAAAAAAAAAAAAAAAAAAAAAAAAAAAAAAAAAAAAAAAAAAAAAAAAAAAAAAAAAAAAAAAAAAAAAAAAAAAAAAAAAAAAAAAAAAAAAAAAAAAAAAAAAAAAAAAAAAAAAAAAAAAAAAAAAAAAAAAAAAAAAAAAAAAAAAAAAAAAAAAAAAAAAAAAAAAAAAAAAAAAAAAAAAAAAAAAAAAAAAAAAAAAAAAAAAAAAAAAAAAAAAAAAAAAAAAAAAAAAAAAAAAAAAAAAAAAAAAAAAAAAAAAAAAAAAAAAAAAAAAAAAAAAAAAAAAAAAAAAAAAAAAAAAAAAAAAAAAAAAAAAAAAAAAAAAAAAAAAAAAAAAAAAAAAAAAAAAAAAAAAAAAAAAAAAAAAAAAAAAAAAAAAAAAAAAAAAAAAAAAAAAAAAAAAAAAAAAAAAAAAAAAAAAAAAAAAAAAAAAAAAAAAAAAAAAAAAAAAAAAAAAAAAAAAAAAAAAAAAAAAAAAAAAAAAAAAAAAAAAAAAAAAAAAAAAAAAAAAAAAAAAAAAAAAAAAAAAAAAAAAAAAAAAAAAAAAAAAAAAAAAAAAAAAAAAAAAAAAAAAAAAAAAAAAAAAAAAAAAAAAAAAAAAAAAAAAAAAAAAAAAAAAAAAAAAAAAAAAAAAAAAAAAAAAAAAAAAAAAAAAAAAAAAAAAAAAAAAAAAAAAAAAAAAAAAAAAAAAAAAAAAAAAAAAAAAAAAAAAAAAAAAAAAAAAAAAAAAAAAAAAAAAAAAAAAAAAAAAAAAAAAAAAAAAAAAAAAAAAAAAAAAAAAAAAAAAAAAAAAAAAAAAAAAAAAAAAAAAAAAAAAAAAAAAAAAAAAAAAAAAAAAAAAAAAAAAAAAAAAAAAAAAAAAAAAAAAAAAAAAAAAAAAAAAAAAAAAAAAAAAAAAAAAAAAAAAAAAAAAAAAAAAAAAAAAAAAAAAAAAAAAAAAAAAAAAAAAAAAAAAAAAAAAAAAAAAAAAAAAAAAAAAAAAAAAAAAAAAAAAAAAAAAAAAAAAAAAAAAAAAAAAAAAAAAAAAAAAAAAAAAAAAAAAAAAAAAAAAAAAAAAAAAAAAAAAAAAAAAAAAAAAAAAAAAAAAAAAAAAAAAAAAAAAAAAAAAAAAAAAAAAAAAAAAAAAAAAAAAAAAAAAAAAAAAAAAAAAAAAAAAAAAAAAAAAAAAAAAAAAAAAAAAAAAAAAAAAAAAAAAAAAAAAAAAAAAAAAAAAAAAAAAAAAAAAAAAAAAAAAAAAAAAAAAAAAAAAAAAAAAAAAAAAAAAAAAAAAAAAAAAAAAAAAAAAAAAAAAAAAAAAAAAAAAAAAAAAAAAAAAAAAAAAAAAAAAAAAAAAAAAAAAAAAAAAAAAAAAAAAAAAAAAAAAAAAAAAAAAAAAAAAAAAAAAAAAAAAAAAAAAAAAAAAAAAAAAAAAAAAAAAAAAAAAAAAAAAAAAAAAAAAAAAAAAAAAAAAAAAAAAAAAAAAAAAAAAAAAAAAAAAAAAAAAAAAAAAAAAAAAAAAAAAAAAAAAAAAAAAAAAAAAAAAAAAAAAAAAAAAAAAAAAAAAAAAAAAAAAAAAAAAAAAAAAAAAAAAAAAAAAAAAAAAAAAAAAAAAAAAAAAAAAAAAAAAAAAAAAAAAAAAAAAAAAAAAAAAAAAAAAAAAAAAAAAAAAAAAAAAAAAAAAAAAAAAAAAAAAAAAAAAAAAAAAAAAAAAAAAAAAAAAAAAAAAAAAAAAAAAAAAAAAAAAAAAAAAAAAAAAAAAAAAAAAAAAAAAAAAAAAAAAAAAAAAAAAAAAAAAAAAAAAAAAAAAAAAAAAAAAAAAAAAAAAAAAAAAAAAAAAAAAAAAAAAAAAAAAAAAAAAAAAAAAAAAAAAAAAAAAAAAAAAAAAAAAAAAAAAAAAAAAAAAAAAAAAAAAAAAAAAAAAAAAAAAAAAAAAAAAAAAAAAAAAAAAAAAAAAAAAAAAAAAAAAAAAAAAAAAAAAAAAAAAAAAAAAAAAAAAAAAAAAAAAAAAAAAAAAAAAAAAAAAAAAAAAAAAAAAAAAAAAAAAAAAAAAAAAAAAAAAAAAAAAAAAAAAAAAAAAAAAAAAAAAAAAAAAAAAAAAAAAAAAAAAAAAAAAAAAAAAAAAAAAAAAAAAAAAAAAAAAAAAAAAAAAAAAAAAAAAAAAAAAAAAAAAAAAAAAAAAAAAAAAAAAAAAAAAAAAAAAAAAAAAAAAAAAAAAAAAAAAAAAAAAAAAAAAAAAAAAAAAAAAAAAAAAAAAAAAAAAAAAAAAAAAAAAAAAAAAAAAAAAAAAAAAAAAAAAAAAAAAAAAAAAAAAAAAAAAAAAAAAAAAAAAAAAAAAAAAAAAAAAAAAAAAAAAAAAAAAAAAAAAAAAAAAAAAAAAAAAAAAAAAAAAAAAAAAAAAAAAAAAAAAAAAAAAAAAAAAAAAAAAAAAAAAAAAAAAAAAAAAAAAAAAAAAAAAAAAAAAAAAAAAAAAAAAAAAAAAAAAAAAAAAAAAAAAAAAAAAAAAAAAAAAAAAAAAAAAAAAAAAAAAAAAAAAAAAAAAAAAAAAAAAAAAE11aGFtbWFkIEFzZ2hhcgAABZADAAIAAAAUAAAQqJAEAAIAAAAUAAAQvJKRAAIAAAADMzQAAJKSAAIAAAADMzQAAOocAAcAAAgMAAAInAAAAAAc6gAAAAgAAAAAAAAAAAAAAAAAAAAAAAAAAAAAAAAAAAAAAAAAAAAAAAAAAAAAAAAAAAAAAAAAAAAAAAAAAAAAAAAAAAAAAAAAAAAAAAAAAAAAAAAAAAAAAAAAAAAAAAAAAAAAAAAAAAAAAAAAAAAAAAAAAAAAAAAAAAAAAAAAAAAAAAAAAAAAAAAAAAAAAAAAAAAAAAAAAAAAAAAAAAAAAAAAAAAAAAAAAAAAAAAAAAAAAAAAAAAAAAAAAAAAAAAAAAAAAAAAAAAAAAAAAAAAAAAAAAAAAAAAAAAAAAAAAAAAAAAAAAAAAAAAAAAAAAAAAAAAAAAAAAAAAAAAAAAAAAAAAAAAAAAAAAAAAAAAAAAAAAAAAAAAAAAAAAAAAAAAAAAAAAAAAAAAAAAAAAAAAAAAAAAAAAAAAAAAAAAAAAAAAAAAAAAAAAAAAAAAAAAAAAAAAAAAAAAAAAAAAAAAAAAAAAAAAAAAAAAAAAAAAAAAAAAAAAAAAAAAAAAAAAAAAAAAAAAAAAAAAAAAAAAAAAAAAAAAAAAAAAAAAAAAAAAAAAAAAAAAAAAAAAAAAAAAAAAAAAAAAAAAAAAAAAAAAAAAAAAAAAAAAAAAAAAAAAAAAAAAAAAAAAAAAAAAAAAAAAAAAAAAAAAAAAAAAAAAAAAAAAAAAAAAAAAAAAAAAAAAAAAAAAAAAAAAAAAAAAAAAAAAAAAAAAAAAAAAAAAAAAAAAAAAAAAAAAAAAAAAAAAAAAAAAAAAAAAAAAAAAAAAAAAAAAAAAAAAAAAAAAAAAAAAAAAAAAAAAAAAAAAAAAAAAAAAAAAAAAAAAAAAAAAAAAAAAAAAAAAAAAAAAAAAAAAAAAAAAAAAAAAAAAAAAAAAAAAAAAAAAAAAAAAAAAAAAAAAAAAAAAAAAAAAAAAAAAAAAAAAAAAAAAAAAAAAAAAAAAAAAAAAAAAAAAAAAAAAAAAAAAAAAAAAAAAAAAAAAAAAAAAAAAAAAAAAAAAAAAAAAAAAAAAAAAAAAAAAAAAAAAAAAAAAAAAAAAAAAAAAAAAAAAAAAAAAAAAAAAAAAAAAAAAAAAAAAAAAAAAAAAAAAAAAAAAAAAAAAAAAAAAAAAAAAAAAAAAAAAAAAAAAAAAAAAAAAAAAAAAAAAAAAAAAAAAAAAAAAAAAAAAAAAAAAAAAAAAAAAAAAAAAAAAAAAAAAAAAAAAAAAAAAAAAAAAAAAAAAAAAAAAAAAAAAAAAAAAAAAAAAAAAAAAAAAAAAAAAAAAAAAAAAAAAAAAAAAAAAAAAAAAAAAAAAAAAAAAAAAAAAAAAAAAAAAAAAAAAAAAAAAAAAAAAAAAAAAAAAAAAAAAAAAAAAAAAAAAAAAAAAAAAAAAAAAAAAAAAAAAAAAAAAAAAAAAAAAAAAAAAAAAAAAAAAAAAAAAAAAAAAAAAAAAAAAAAAAAAAAAAAAAAAAAAAAAAAAAAAAAAAAAAAAAAAAAAAAAAAAAAAAAAAAAAAAAAAAAAAAAAAAAAAAAAAAAAAAAAAAAAAAAAAAAAAAAAAAAAAAAAAAAAAAAAAAAAAAAAAAAAAAAAAAAAAAAAAAAAAAAAAAAAAAAAAAAAAAAAAAAAAAAAAAAAAAAAAAAAAAAAAAAAAAAAAAAAAAAAAAAAAAAAAAAAAAAAAAAAAAAAAAAAAAAAAAAAAAAAAAAAAAAAAAAAAAAAAAAAAAAAAAAAAAAAAAAAAAAAAAAAAAAAAAAAAAAAAAAAAAAAAAAAAAAAAAAAAAAAAAAAAAAAAAAAAAAAAAAAAAAAAAAAAAAAAAAAAAAAAAAAAAAAAAAAAAAAAAAAAAAAAAAAAAAAAAAAAAAAAAAAAAAAAAAAAAAAAAAAAAAAAAAAAAAAAAAAAAAAAAAAAAAAAAAAAAAAAAAAAAAAAAAAAAAAAAAAAAAAAAAAAAAAAAAAAAAAAAAAAAAAAAAAAAAAAAAAAAAAAAAAAAAAAAAAAAAAAAAAAAAAAAAAAAAAAAAAAAAAAAAAAAAAAAAAAAAAAAAAAAAAAAAAAAAAAAAAAAAAAAAAAAAAAAAAAAAAAAAAAAAAAAAAAAAAAAAAAAAAAAAAAAAAAAAAAAAAAAAAAAAAAAAAAAAAAAAAAAAAAAAAAAAAAAAAAAAAAAAAAAAAAAAAAAAAAAAAAAAAAAAAAAAAAAAAAAAAAAAAAAAAAAAAAAAAAAAAAAAAAAAAAAAAAAAAAAAAAAAAAAAAAAAAAAAAAAAAAAAAAAAAAAAAAAAAAAAAAAAAAAAAAAAAAAAAAAAAAAAAAAAAAAAAAAAAAAAAAAAAAAAAAAAAAAAAAAAAAAAAAAAAAAAAAAAAAAAAAAAAAAAAAAAAAAAAAAAAAAAAAAAAAAAAAAAAAAAAAAAAAAAAAAAAAAAAAAAAAAAAAAAAAAAAAAAAAAAAAAAAAAAAAAAAAAAAAAAAAAAAAAAAAAAAAAAAAAAAAAAAAAAAAAAAAAAAAAAAAAAAAAAAAAAAAAAAAAAAAAAAAAAAAAAAAAAAAAAAAAAAAAAAAAAAAAAAAAAAAAAAAAAAAAAAAAAAAAAAAAAAAAAAAAAAAAAAAAAAAAAAAAAAAAAAAAAAAAAAAAAAAAAAAAAAAAAAAAAAAAAAAAAAAAAAAAAAAAAAAAAAAAAAAAAAAAAAAAAAAAAAAAAAAAAAAAAAAAAAAAAAAAAAAAAAAAAAAAAAAAAAAAAAAAAAAAAAAAAAAAAAAAAAAAAAAAAAAAAAAAAAAAAAADIwMjI6MDI6MTMgMjI6MDU6NDYAMjAyMjowMjoxMyAyMjowNTo0NgAAAE0AdQBoAGEAbQBtAGEAZAAgAEEAcwBnAGgAYQByAAAA/+ELImh0dHA6Ly9ucy5hZG9iZS5jb20veGFwLzEuMC8APD94cGFja2V0IGJlZ2luPSfvu78nIGlkPSdXNU0wTXBDZWhpSHpyZVN6TlRjemtjOWQnPz4NCjx4OnhtcG1ldGEgeG1sbnM6eD0iYWRvYmU6bnM6bWV0YS8iPjxyZGY6UkRGIHhtbG5zOnJkZj0iaHR0cDovL3d3dy53My5vcmcvMTk5OS8wMi8yMi1yZGYtc3ludGF4LW5zIyI+PHJkZjpEZXNjcmlwdGlvbiByZGY6YWJvdXQ9InV1aWQ6ZmFmNWJkZDUtYmEzZC0xMWRhLWFkMzEtZDMzZDc1MTgyZjFiIiB4bWxuczpkYz0iaHR0cDovL3B1cmwub3JnL2RjL2VsZW1lbnRzLzEuMS8iLz48cmRmOkRlc2NyaXB0aW9uIHJkZjphYm91dD0idXVpZDpmYWY1YmRkNS1iYTNkLTExZGEtYWQzMS1kMzNkNzUxODJmMWIiIHhtbG5zOnhtcD0iaHR0cDovL25zLmFkb2JlLmNvbS94YXAvMS4wLyI+PHhtcDpDcmVhdGVEYXRlPjIwMjItMDItMTNUMjI6MDU6NDYuMzM1PC94bXA6Q3JlYXRlRGF0ZT48L3JkZjpEZXNjcmlwdGlvbj48cmRmOkRlc2NyaXB0aW9uIHJkZjphYm91dD0idXVpZDpmYWY1YmRkNS1iYTNkLTExZGEtYWQzMS1kMzNkNzUxODJmMWIiIHhtbG5zOmRjPSJodHRwOi8vcHVybC5vcmcvZGMvZWxlbWVudHMvMS4xLyI+PGRjOmNyZWF0b3I+PHJkZjpTZXEgeG1sbnM6cmRmPSJodHRwOi8vd3d3LnczLm9yZy8xOTk5LzAyLzIyLXJkZi1zeW50YXgtbnMjIj48cmRmOmxpPk11aGFtbWFkIEFzZ2hhcjwvcmRmOmxpPjwvcmRmOlNlcT4NCgkJCTwvZGM6Y3JlYXRvcj48L3JkZjpEZXNjcmlwdGlvbj48L3JkZjpSREY+PC94OnhtcG1ldGE+DQogICAgICAgICAgICAgICAgICAgICAgICAgICAgICAgICAgICAgICAgICAgICAgICAgICAgICAgICAgICAgICAgICAgICAgICAgICAgICAgICAgICAgICAgICAgICAgICAgICAgCiAgICAgICAgICAgICAgICAgICAgICAgICAgICAgICAgICAgICAgICAgICAgICAgICAgICAgICAgICAgICAgICAgICAgICAgICAgICAgICAgICAgICAgICAgICAgICAgICAgICAKICAgICAgICAgICAgICAgICAgICAgICAgICAgICAgICAgICAgICAgICAgICAgICAgICAgICAgICAgICAgICAgICAgICAgICAgICAgICAgICAgICAgICAgICAgICAgICAgICAgIAogICAgICAgICAgICAgICAgICAgICAgICAgICAgICAgICAgICAgICAgICAgICAgICAgICAgICAgICAgICAgICAgICAgICAgICAgICAgICAgICAgICAgICAgICAgICAgICAgICAgCiAgICAgICAgICAgICAgICAgICAgICAgICAgICAgICAgICAgICAgICAgICAgICAgICAgICAgICAgICAgICAgICAgICAgICAgICAgICAgICAgICAgICAgICAgICAgICAgICAgICAKICAgICAgICAgICAgICAgICAgICAgICAgICAgICAgICAgICAgICAgICAgICAgICAgICAgICAgICAgICAgICAgICAgICAgICAgICAgICAgICAgICAgICAgICAgICAgICAgICAgIAogICAgICAgICAgICAgICAgICAgICAgICAgICAgICAgICAgICAgICAgICAgICAgICAgICAgICAgICAgICAgICAgICAgICAgICAgICAgICAgICAgICAgICAgICAgICAgICAgICAgCiAgICAgICAgICAgICAgICAgICAgICAgICAgICAgICAgICAgICAgICAgICAgICAgICAgICAgICAgICAgICAgICAgICAgICAgICAgICAgICAgICAgICAgICAgICAgICAgICAgICAKICAgICAgICAgICAgICAgICAgICAgICAgICAgICAgICAgICAgICAgICAgICAgICAgICAgICAgICAgICAgICAgICAgICAgICAgICAgICAgICAgICAgICAgICAgICAgICAgICAgIAogICAgICAgICAgICAgICAgICAgICAgICAgICAgICAgICAgICAgICAgICAgICAgICAgICAgICAgICAgICAgICAgICAgICAgICAgICAgICAgICAgICAgICAgICAgICAgICAgICAgCiAgICAgICAgICAgICAgICAgICAgICAgICAgICAgICAgICAgICAgICAgICAgICAgICAgICAgICAgICAgICAgICAgICAgICAgICAgICAgICAgICAgICAgICAgICAgICAgICAgICAKICAgICAgICAgICAgICAgICAgICAgICAgICAgICAgICAgICAgICAgICAgICAgICAgICAgICAgICAgICAgICAgICAgICAgICAgICAgICAgICAgICAgICAgICAgICAgICAgICAgIAogICAgICAgICAgICAgICAgICAgICAgICAgICAgICAgICAgICAgICAgICAgICAgICAgICAgICAgICAgICAgICAgICAgICAgICAgICAgICAgICAgICAgICAgICAgICAgICAgICAgCiAgICAgICAgICAgICAgICAgICAgICAgICAgICAgICAgICAgICAgICAgICAgICAgICAgICAgICAgICAgICAgICAgICAgICAgICAgICAgICAgICAgICAgICAgICAgICAgICAgICAKICAgICAgICAgICAgICAgICAgICAgICAgICAgICAgICAgICAgICAgICAgICAgICAgICAgICAgICAgICAgICAgICAgICAgICAgICAgICAgICAgICAgICAgICAgICAgICAgICAgIAogICAgICAgICAgICAgICAgICAgICAgICAgICAgICAgICAgICAgICAgICAgICAgICAgICAgICAgICAgICAgICAgICAgICAgICAgICAgICAgICAgICAgICAgICAgICAgICAgICAgCiAgICAgICAgICAgICAgICAgICAgICAgICAgICAgICAgICAgICAgICAgICAgICAgICAgICAgICAgICAgICAgICAgICAgICAgICAgICAgICAgICAgICAgICAgICAgICAgICAgICAKICAgICAgICAgICAgICAgICAgICAgICAgICAgICAgICAgICAgICAgICAgICAgICAgICAgICAgICAgICAgICAgICAgICAgICAgICAgICAgICAgICAgICAgICAgICAgICAgICAgIAogICAgICAgICAgICAgICAgICAgICAgICAgICAgICAgICAgICAgICAgICAgICAgICAgICAgICAgICAgICAgICAgICAgICAgICAgICAgICAgICAgICAgICAgICAgICAgICAgICAgCiAgICAgICAgICAgICAgICAgICAgICAgICAgICAgICAgICAgICAgICAgICAgICAgICAgICAgICAgICAgICAgICAgICAgICAgICAgICAgICAgICAgICAgICAgICAgICAgICAgICAKICAgICAgICAgICAgICAgICAgICAgICAgICAgIDw/eHBhY2tldCBlbmQ9J3cnPz7/2wBDAAcFBQYFBAcGBQYIBwcIChELCgkJChUPEAwRGBUaGRgVGBcbHichGx0lHRcYIi4iJSgpKywrGiAvMy8qMicqKyr/2wBDAQcICAoJChQLCxQqHBgcKioqKioqKioqKioqKioqKioqKioqKioqKioqKioqKioqKioqKioqKioqKioqKioqKir/wAARCAF5AWYDASIAAhEBAxEB/8QAHwAAAQUBAQEBAQEAAAAAAAAAAAECAwQFBgcICQoL/8QAtRAAAgEDAwIEAwUFBAQAAAF9AQIDAAQRBRIhMUEGE1FhByJxFDKBkaEII0KxwRVS0fAkM2JyggkKFhcYGRolJicoKSo0NTY3ODk6Q0RFRkdISUpTVFVWV1hZWmNkZWZnaGlqc3R1dnd4eXqDhIWGh4iJipKTlJWWl5iZmqKjpKWmp6ipqrKztLW2t7i5usLDxMXGx8jJytLT1NXW19jZ2uHi4+Tl5ufo6erx8vP09fb3+Pn6/8QAHwEAAwEBAQEBAQEBAQAAAAAAAAECAwQFBgcICQoL/8QAtREAAgECBAQDBAcFBAQAAQJ3AAECAxEEBSExBhJBUQdhcRMiMoEIFEKRobHBCSMzUvAVYnLRChYkNOEl8RcYGRomJygpKjU2Nzg5OkNERUZHSElKU1RVVldYWVpjZGVmZ2hpanN0dXZ3eHl6goOEhYaHiImKkpOUlZaXmJmaoqOkpaanqKmqsrO0tba3uLm6wsPExcbHyMnK0tPU1dbX2Nna4uPk5ebn6Onq8vP09fb3+Pn6/9oADAMBAAIRAxEAPwD6F2zf8/Mn/fKf/E0bZv8An5k/75T/AOJqLUL+20rTbnUL+TyrW1iaaaTaW2ooyTgZJ4HaqGj+KdJ12d4NPmnE6RiUw3VpLbSFDwHCyqpZc8ZAIoDzNTbN/wA/Mn/fKf8AxNG2b/n5k/75T/4mn0UAM2zf8/Mn/fKf/E0bZv8An5k/75T/AOJp9FADNs3/AD8yf98p/wDE0bZv+fmT/vlP/iap6PreneILA3uj3S3VuJXhMigj50Yqw5A7j8eo4q/QAzbN/wA/Mn/fKf8AxNG2b/n5k/75T/4mn0UAM2zf8/Mn/fKf/E0bZv8An5k/75T/AOJp9c9f+OdE03WP7Luv7S+2EMVji0i7l8wLjcVZIiGA3DJBIGRR1sBvbZv+fmT/AL5T/wCJo2zf8/Mn/fKf/E0y6uobKzmu7l9kEMbSSNgnaoGScDnoKfBNHc28c8Lbo5FDo2MZBGQaADbN/wA/Mn/fKf8AxNG2b/n5k/75T/4msPUvG2haVaXV1eXFz5FnM8NzJDYzzLCyKGbcUQ7QAwO48e9XNN1+01byvscN+FlDlXuNPngA27c58xFxncMeuDjODQtdgNDbN/z8yf8AfKf/ABNZOueFtN8SeR/bSyXP2fd5Xz7Nu7Gfu4z90da2aKqE5QlzRdmJxUlZnIf8Ku8K/wDPjJ/4EP8A40f8Ku8K/wDPjJ/4EP8A4119Fb/W8R/z8l97M/Y0v5V9xyH/AAq7wr/z4yf+BD/40f8ACrvCv/PjJ/4EP/jXX0UfW8R/z8l97D2NL+VfcY2h+FtN8N+f/YqyW32jb5vz7923OPvZx949K1ts3/PzJ/3yn/xNPorCc5TlzSd2aKKirIZtm/5+ZP8AvlP/AImjbN/z8yf98p/8TT6KkYzbN/z8yf8AfKf/ABNG2b/n5k/75T/4mn0UAM2zf8/Mn/fKf/E0bZv+fmT/AL5T/wCJqG91C106OJ7yXy1mmSBDtJy7sFUcDuSOelOvr2303T7i+vZPKtraJppX2k7UUZJwOTwO1HS40m3ZEm2b/n5k/wC+U/8AiaNs3/PzJ/3yn/xNLHIssSSRnKOoZTjqDTqBDNs3/PzJ/wB8p/8AE0bZv+fmT/vlP/iafRQAzbN/z8yf98p/8TRtm/5+ZP8AvlP/AImn0UAM2zf8/Mn/AHyn/wATRtm/5+ZP++U/+Jp9FADNs3/PzJ/3yn/xNG2b/n5k/wC+U/8AiafRQAzbN/z8yf8AfKf/ABNG2b/n5k/75T/4mn0UAM2zf8/Mn/fKf/E0bZv+fmT/AL5T/wCJp9FADNs3/PzJ/wB8p/8AE0U+igDC8cW8138P9ft7SGSeeXTp0jijUszsY2AAA5JJ7Vw994f12CTUI55dT1eeTSYRZ3TRpG0cIlU3NsDGiKHZQpUn5j0/hNeq0Ura3/rr/n+g76Jf10/yPKbnTb22sb7VvCWiXMNtZXtvPpenvbNATIY2hnZYiAUUiXJ4GSrHvk7PgTw/f6Rr17bX6Tva6RbrY2FzNkmdHYyuwPfGY0+qGu9oprR3/ra3+f3k7q39b3CsTxhc6hbeEr/+xIJJ9Rmj8i2WNSdskhCBzgHCru3E9gCa26KTV1ZlJ2dzya38P67pNrqmmtoscCQw22qaathO9ynn22xWj3mNMM6og245y3Xmq2q+HdXlsdKmvrVhbXsFzdXUU2ly37W95PIJFzFFIjK6qdqyHIXaemc17FRTeu/9f0rfchLTb+v61+9nlkehXlifFeoXWjzatfmOzgjkuIXzOn2eFZWCqfm5BLKhJbbtyeKzdN0y4gtUj1nSpptAi153ayg0mWCJomtV8tktGLN5YlLEqM4bJIGOPZaq6jpen6vaG11axtr63JBMNzCsiEjvtYEU7u7ff/NP9A6Jdv8AKx4suj6jqei6c0UbjSZLa6S0P9ly3zwTtdSEOojlTy32lNsrZAweRnn0bULHUD430CWNZZDDpV7FJdGM7VkYwbdxGQCSpOM9j6V1UUUcEKRQRrHHGoVEQYCgdAAOgp9S1dW9fxv/AJ/kC0d/66f5fmeRWHhqW+0t7NNBuI5Doc8OtLeW5C3t9hDG2WGJnDK7CQZAyOe1Nu9HZ9PZLPQL5bmTSbePw+8di8a2FwA+/wDhH2dt5VizBdw4yelev0VV9b/11/zDt/Xbfvsecahpeov8P/iFbfYrh7i7nuzbxrC26fMCAFBjLAkEDFL8RtLv76zdbKxubgnw1qMGIYmf943kbU4H3jtOB1OD6V6NRSjokuyt+FgWjv6/i7nk+peEFg1DxE+n6LKgitbC5sDFC3y3W9/Nkjx/y0wqbiOSMZ61ZsNE1c/EyS61AtHOmpSzRzx6VKzSWhQhIzd+b5YjwQPL25DDOD96vT6KPtc39f1+hNtLen5W/X7wooooKCiiigAryPxlZpf+NvE1vBp1xd6s2mWI0uaG3Z/stwWn2ybwMRYOCWJAwCM9j65USWlvHdy3UcES3EyqkkyoA7qudoJ6kDccDtk+tNbh0aPMJ7G+vPiZaTTaJ9nX7fLBdyx6bMXnt2t5AGe63bGjY7f3e35TjJB65lp4ev7/AEMm6ge9+xaxY6PA0JMm+ztrobpDjpnLbvTZzXsxAZSGAIIwQe9RWlpbWFpFa2NvFbW8K7Y4YUCIg9Ao4Aojo0+1vw/p/ewev9f15fcjzXT/AAr/AGdqqXFjpEls9r4kZLV0hZRDaNDyq+kJYngfLn3rnB4c18eGNcFxHcNq39kXMN5HbaPNG13OzKVZpzIwuG4O0ovAJHy8LXudFKPupf10S/4I763/AK3b/U8n1zwnax6lqat4c+0aXFf6bdrEtgZlYliLh0UKSxKgb9oJPeum8Uat4d8V+Fdb8P6bqWk6tqMtlOsenx3MUshkVDt+TJIIYA9OCK7KkwAcgUmrxce9/wAkv0CD5JKS6f53PLW0RZfE+gafpdmLbSdVtYLm+tWiMDQ/YyGTMRAI3M8anIHCVjeGtNvLvR7KXwjYXNnqo0/UEur9oWiSUsXEC+YflkIfBGM7QD0zg+zLZ2qXsl4ltCt1KgSScRgO6jOFLdSBk4HvS21rb2VutvZwR28KZ2xxIFVcnJwBx1NOXvJ+d/xJj7rT7W/A4X4aaVcWE19M4a3jkghR7ZdIlsUEy797/vJHMjnIDOOGwvLdu/oopt3BKwUUUUhhRRRQAUUUUAFFFFABRRRQAUUUUAL9kP8Az8S/kv8AhR9kP/PxL+S/4VFq19Pp2nvcWtjJeuoJKJIqBQATklj04xwCeRx1p+l3v9paRZ3wj8v7VAk2zOdu5QcZ79aN7g9Gl3HfZD/z8S/kv+FH2Q/8/Ev5L/hViigCq1swZR9ol5OOi+n0p32Q/wDPxL+S/wCFTP8AeT/e/oao61qM+laXLd21i960asxRZFQKApOSWPTjHAJ5HFJtRV2NJt2RY+yH/n4l/Jf8KPsh/wCfiX8l/wAKy73VdZ/sy1vtI07TZoZLcTTm+1F7fyhgHjbDJuGM5Jx0qaw1tn8JRa3rFuunj7MbmaJZDIIlxu6lVJ456A9sU3pe/QlO9rdS99kP/PxL+S/4UfZD/wA/Ev5L/hWXoHia31rTbq+eWwjit3IcW98lwYVAyfNKjajjnKgsBjrWda+N5b7TTLbaSyXc2pNYWdvcTeWJTs8wO7bSYwUBbGGI6YzxR1t/X9aj/r9f0Ol+yH/n4l/Jf8KPsh/5+JfyX/CsB/FtyLGKOLTIzq0l+dPNq90VhSYRmTJlCE7CgyDsydyjaOzIvF95fx2sGlaTHNqE32gyQz3flxIIJRFIRIEYtliNvyjI67aP6/X8gOi+yH/n4l/Jf8KPsh/5+JfyX/CsGbxVez6ZDfaLo4uITafa52u7n7Osa85RSEcNINpyvAHGW5on8bWS6rp1hE1rFLeRxSkX92tuyrJ91EUgmSTAJ2DA45IyMi12B6b/ANf1c3vsh/5+JfyX/Cj7If8An4l/Jf8ACqE2tTw+JbXS306RYbkSbLppVwxVQ3CjJxzjnHI6HrTRrs3/AAlkWjS6dJCk1tNPHcvKp3+W0anCjPB80ckg8dKFq7L+uoGj9kP/AD8S/kv+FH2Q/wDPxL+S/wCFYCa94ig16zsNT0TTUiuVlcvZ6pJPIiIuS3ltboCNxRfvdWFRP4zutPEsmvaMbOI2E2oQCK482Qxx7NySKVURv+8XgFhnPzcUbgdJ9kP/AD8S/kv+FH2Q/wDPxL+S/wCFc/J4tutPiu01vS0t7yJInght7rzknEsnloN5Rdp3kBuMDIIJqeDW9auY7y0j0mxXWbMxl7aTUHEDRvna6yiEt/CwwYxyp7c0eYGz9kP/AD8S/kv+FH2Q/wDPxL+S/wCFcnP421Kx0K+vdS0zS7aW2v0soydWb7M5JUMzTNCCoXJB+Q8qRXR6FqE+q6PDe3AsMzZKnT7w3ULL2KyFEz+X50LVXX9dQ2didbZmXJuJepHRfX6U77If+fiX8l/wqaP7p/3j/Oufk8V+X4b1vVvsWf7JluI/K83/AFvlHrnHGfoce9C1dv6/rUHors2vsh/5+JfyX/Cj7If+fiX8l/wrMfxfokeqNp73T/aEuFtZMW8pjjlYKVRpAuxSwdcZIznAyar6R4sguLJm1OSOK4+0XqhIY3bEVvM6bzjOPlUZJwCxwOoFGy5nsBt/ZD/z8S/kv+FH2Q/8/Ev5L/hWbY+LtE1BZ2t70qkEH2lpJ4ZIUMOM+YrOoDp/tKSB60tr4s0a8H7u4ljbzY4tlxaywvmQlUO11B2sQQGxtJ6GjrYV1a5o/ZD/AM/Ev5L/AIUfZD/z8S/kv+FU4/EukS58q9WTF49idiscTopZ06dQFY56cVFo/izRtemSLS7p5WkgFzEXt5I1miOPnRnUBwNwB2k4JAOKFrsN6bmj9kP/AD8S/kv+FH2Q/wDPxL+S/wCFWKKAK/2Q/wDPxL+S/wCFNNs3mAfaJcEE9F9varVNP+uX/dP9KAIfsh/5+JfyX/Cj7If+fiX8l/wqxRQBX+yH/n4l/Jf8KPsh/wCfiX8l/wAKsUUAV/sh/wCfiX8l/wAKPsh/5+JfyX/CrFFAFf7If+fiX8l/wo+yH/n4l/Jf8KsUUAV/sh/5+JfyX/Cj7If+fiX8l/wqxRQBX+yH/n4l/Jf8KKsUUAQ3kLXFjPChAaSNkBPTJGKg0azk07QbCynKtJbW0cLlDlSVUA4z24qf7Zbf8/MP/fYo+2W3/PzD/wB9ihaX8/0v/mJq7T7frb/ImoqH7Zbf8/MP/fYo+2W3/PzD/wB9igZI/wB5P97+hqDU7Z73Sbu1iKh54HjUt0BKkDP50rXltuT/AEiL7398ehp32y2/5+Yf++xUyipRcX1GnZ3Rk3ui3N54csdHLxCHEUV8cn54lHzqvHO4gKc4+VmPXAqfXdLk1zSb/SJRElne2bwNLkllZhj7mMEYOevtjvV/7Zbf8/MP/fYo+2W3/PzD/wB9irbbd2SlypJdDk38JalrUlzJrFxFpDSQQ2yjR5Fk3rG5cFjLFtwc42bSAMjcc0WXgy8ttN1qHUb+bW3vLwXNstzOtsY2CqA/mwRK0b8dVBwAMYyc9Z9stv8An5h/77FH2y2/5+Yf++xS/r8b/mgt/Xyt+Rxs3gaZPD8VssNjqTtfPe3lheu/2a7LIVCOxDsdvyHcytuKZIBORN/wiF0vh20tvItXvYJ5Gh8u9nt0sonYnykaMB5EX5RsOxWAH3QAB1n2y2/5+Yf++xR9stv+fmH/AL7FA1oche+G9as9K0jRdGtdNv8ASLOALcw3d69qbh1xgEJDIDH1JXjJwDwCGdq/hnV9RGo+TBpkZ12yS2v2eZy1oyqy7oz5f70DdwG8vBGc84HW/bLb/n5h/wC+xR9stv8An5h/77FAdboo3emTTa3pV5G6+VZLKJNxO5tygDHHtzSXGlzy+MLDVVaMQW1lcW7qSdxaR4WUgYxjEbZ57ir/ANstv+fmH/vsUfbLb/n5h/77FC0d/wCtrAtCjZ6bPHrWo6ndtG8swWG2VWOI4VGQDkfeLsxOO20c4rF0PS/ED3V2fFelaPML+No7q4h1GSYlMHbEsTQKBHyeN3ck5JrqPtlt/wA/MP8A32KPtlt/z8w/99ilYNTldH8FLbrqM2p20Mj3lststq19NchEUswBnl+flm4wAFwMDPJsaH4cvNEsdUuoPI/tW9RRGst1NOibFIRXmkzJJgkksQODgDiui+2W3/PzD/32KPtlt/z8w/8AfYph1uZX9kXemeHbOz0U2889oyuReZC3LclizgMUZmJbcFPPbmpPDml3Om2l0995CXF7dPdSQ2zFooS2BtUkAnpknAySTgZrR+2W3/PzD/32KPtlt/z8w/8AfYo6t/1/WiFbRLt/X6kkf3T/ALx/nXIXvhrV3ttW0e1+wnS9XmllkupJnE8AkxvURhCr98HeuMjg456lLy2CnNxF94/xj1p32y2/5+Yf++xQtHf+v60G9VY5u78MXk9pq0SSwA3msW1/HljxHG1uWB4+9+5bHbkc+lOx8GX+mR3zWktuZdTe8W8V5HKlJJZZIWU4OGXzMFQADuY8kDPYfbLb/n5h/wC+xR9stv8An5h/77FEvejyPbb8LDTaVl3v8zmNS8IXOpQwQtcRRKmiy6ezgFiJGMRDAYGV/dnPIPT8G3nh7WtaW9u9TGn2l99kEFlHbyvLGsiyCVJXYop++qHaAcYPJzx1P2y2/wCfmH/vsUfbLb/n5h/77FOTct/P8b/5siMVHby/C1vyOX0/wdc2OrQTm5ikt0sSHQg7nvCuxpvxTI9easaT4cu7Cfw080kDDSdJksp9rH5nYQYK8cj903XB5HHp0H2y2/5+Yf8AvsUfbLb/AJ+Yf++xQnbb+t/8ylo7/wBdP8iaioftlt/z8w/99ij7Zbf8/MP/AH2KQE1NP+uX/dP9Kj+2W3/PzD/32Kaby281T9oixtP8Y9qALFFQ/bLb/n5h/wC+xR9stv8An5h/77FAE1FQ/bLb/n5h/wC+xR9stv8An5h/77FAE1FQ/bLb/n5h/wC+xR9stv8An5h/77FAE1FQ/bLb/n5h/wC+xR9stv8An5h/77FAE1FQ/bLb/n5h/wC+xR9stv8An5h/77FAE1FQ/bLb/n5h/wC+xRQBNRWT4jgim00Pe6lNYWMLGS6MEjRPIm0gKJEIdfmKn5Tk4x3pvhaK9h0GMag1wWaSRoVunLyxwlyY1djyWCbQckn1JPNAGxRRRQA1/vJ/vf0NOpr/AHk/3v6GnUAFFYHim3gaCO41C/vorSMFRaWE0kMtzMxGwB42VieCAucHdk9Kw0s9S1C5i0zXdRvop9P0WK4Z7S7eEvcOzqzM0ZG/b5Y4OVO4kg8Ur2V/67/18ikr/wBedv1O7orn7Ke41vwHptxcXklrPeWtvJLJAQjuWClkUnG0tyoIwRngg4NYujC4udJ1Wwmm1ezEF2oj06e9D3oTylbyhcGQ8udxDCQ4BxuXBC1JOLcexEWpRTXU7qivOYri8l0dILltaXT7fVJIb22hlmlvrWLyd0cbyRM0j/MyNuRmOGUbiATTLa9vNQsLD+1H11tJjnvbcSWXnC4LpOFgMph/eYCBwSeCRl+tL+v1/wCG7j/r+vuPSaK4Ga+1K88B+HtZk1G8hnkubBXRGVBMHuY1LPtHO5ScgHbz0pfFEtyw8Uaml9ewTaDaiSxihuXjj3CIyFnRSFkyTtw4YYXjHNO23rb+vvGk3sd7RXIa1Z3Da5btaanfPqs9xFJbwQzukNtbKU83zIw2xwQH+ZwWJcAYxkLc2U6+LbYWmp31xqJuPPuQJ3FvBaZbCNDu8vJxtDY3kgtnAOEv6/r8/Rk9L/1/X+aOuorzvS77UbfxFpcEjawNTvLieHUxdCU2qgRyOrRB/wB3gFUA8rsfn5rQ07Tb06xdQaPrd+6pZyQX17cStOhvDt2tEjkqpQByyphQWUYJBAFr/X9f00M7SiuESHUI7HXJfDF1qVxZCJI4WmuXuJJJQ7ee8LSFj90hRzt3DgcZND+37yxt9XtdAGqvb7rCO0fUjIJo5LiZo3wbjLgABWG8HBPAIwKFrsB6VRXFwHzdFudP1m5utITSpt1/5OpzTtOjoWXbcnbKBlhwApyu0cEZ3PC0V7DoMY1Brgs0kjQrdOXljhLkxq7HksE2g5JPqSeaANaP7p/3j/OnU2P7p/3j/OvPtJ8RXGjeIPE0uq3dxc2L3E72qSMW8qSFV3Qx+zKyFV9Q9Tze9byb+63+YbL52PQ6K848M6l4gtdPbTJb5bnWLzWJ4Tc326WO2xCJXVUDKSoOVVQy8d+OZft+s6p430+K1lsLfUrS01C2mmkgeSElZbU7lQOp5BXjd8pJ5bHNpXaXdX/C4oyT+9r8/wDI9CorzfWNcm1jw9fPPCsTvo7NIEkcqJFnKNgE7cZUkHG7HftV+78cagviueys7Kea2tb6Ozkhj0m6laTds3S/aFHlRhQ5JU5JC9VyKUfetbz/AAdvzFzaten4q53NFFFBQUUUUAFNP+uX/dP9KdTT/rl/3T/SgB1FFFABRRRQAUUUUAFFFFABRRRQAUUUUAZ2taDYeILWK31MXBSGZZozb3ctuyuM4O6NlbjPrUumaXb6RaG2tJLuRCxbN3eS3L5P+3KzNjjpnFTbrr/njD/39P8A8TRuuv8AnjD/AN/T/wDE0bBuTUVDuuv+eMP/AH9P/wATRuuv+eMP/f0//E0ASP8AeT/e/oadVdmudyfuovvf89T6H/Zp266/54w/9/T/APE0AZ+s+GtO1+a1m1D7Ystpu8l7S/ntmXcADzE654GOf61FceENHu7a3huUu5Bbo0ayNqFwZHRjlkeTfukUn+FyR7Vq7rr/AJ4w/wDf0/8AxNG66/54w/8Af0//ABNAFW60PT72GSK5gLRSRpGYxIyqgQlkKgHCMCchlweBzwMV18KaQulvYeRM8byCVpZLqV5zIMAP5xYybgAAG3ZAGBxWluuv+eMP/f0//E0brr/njD/39P8A8TQBSi8PadDpL6bCtxHBIweR0u5RNI2R8zS7vMYnABJY5AweOKdPoOnXGlw6c0DRWcONsEErwqQARtYIRuXk5U5B7ire66/54w/9/T/8TRuuv+eMP/f0/wDxNAbEV1pdleWcVpPApt4ZIpI41JQK0bB0xjHAZVOOnGOlVdQ8M6VqmoJe3tu7TKFVtk8iJKFJKiRFYLIAScBwQMmr+66/54w/9/T/APE0brr/AJ4w/wDf0/8AxNF2HSxkXfg3SbzV5tTkbUorqfZ5rW2rXUCvtGFykcgXge3r60DwbpKaxLqcTalFczTi4lEWrXSRu4wMmISBCMKBjbjAxjFa+66/54w/9/T/APE0brr/AJ4w/wDf0/8AxNC02Dcrx6NZRanNqAjdruZShlkmdyinGVTcT5YOASFwCQD1rKsfAeh6dbvb2h1Rbd4XhML6zePGEYEEBWlIB5PIGR1BFbu66/54w/8Af0//ABNG66/54w/9/T/8TR5AZukeFtN0MMNPk1LYYvKCXGqXM6ov+yskjBTx1GDUsXhzSodKm05bXfb3B3TebI0kkrcfM0jEuzDAwxORgYPAq7uuv+eMP/f0/wDxNG66/wCeMP8A39P/AMTRuGxjTeCdEn01bKSK88tbhboyrqNws7SgYDtMH8xiBgDLHGB6CtPTNLt9ItDbWkl3IhYtm7vJbl8n/blZmxx0zipt11/zxh/7+n/4mjddf88Yf+/p/wDiaAJI/un/AHj/ADrLm8L6NcY8+xSTF8NRG9mOLgdJBz7dOntV5GudpxFF94/8tT6/7tO3XX/PGH/v6f8A4mjrcNzPuPDGk3NvPDJbOomuTds8U8kcizEYLo6sGQ44+Ujgn1NQS+DNDmjt1+zTRNbJIkUsF3NFIokZWkPmK4YsxUEsSSeeeTnX3XX/ADxh/wC/p/8AiaN11/zxh/7+n/4mjZWAoP4Z0d7X7MbJVh+yi02I7KBEDkLwfXv196WXw5pkusDUzFKtzuDOI7mRI5WGAGeNWCOwwMFgSMDHQVe3XX/PGH/v6f8A4mjddf8APGH/AL+n/wCJoCxNRUO66/54w/8Af0//ABNG66/54w/9/T/8TQBNRUO66/54w/8Af0//ABNG66/54w/9/T/8TQBNTT/rl/3T/So911/zxh/7+n/4mmlrnzV/dRZ2n/lqfb/ZoAsUVDuuv+eMP/f0/wDxNG66/wCeMP8A39P/AMTQBNRUO66/54w/9/T/APE0brr/AJ4w/wDf0/8AxNAE1FQ7rr/njD/39P8A8TRuuv8AnjD/AN/T/wDE0ATUVDuuv+eMP/f0/wDxNG66/wCeMP8A39P/AMTQBNRUO66/54w/9/T/APE0brr/AJ4w/wDf0/8AxNAE1FQ7rr/njD/39P8A8TRQBDqerWej2qz38jqrNsRIonlkkbBO1EQFmOATgAnAJ7U/TtRtdVsUu7CXzYXJGSpUqQSGVlIBVgQQQQCCCDVHxHdG009ZBDe7SxVrqwtxPNaZU/vFj2OWOcDAVvvcjGar+DILi38PbbpJQzXE0iyXEflyzq0hIkkTja7ZyRgY/ur90C6g9kb9FFFADX+8n+9/Q1V1PVrHRrQ3Op3KW8XIBY8sQCcADknAJwPQ1af7yf739DVTWo3l0DUI4kZ3e2kVVUZLEqcACoqScYOS6FRSckmV9S8SabpVnaXN01y8d6wW3W1s5rh5CVL8JGrN90E5xV+zuo76ziuYVlWOVdyiaF4nA90cBlPsQDXK6taWn9iaE2sWermO2hGZNMacSwOYwuCsH73nkZHTHPBq1YT69/why2sak64bZ2ge/DKgG4iPzXVWG/btJGCc54rSVk2kZxbaTfU0W8TaOv8AaOb5D/ZkixXeFY+W7AFU4HzMdwGFycnHXinW/iPSrnSptRW68q2gbbN9oieF4m4+VkcBlbkYBAJyMdRXFaZoOsL/AG3banp8GlwQ/ZrqC5tJ5b1mmiw4O0woZcsCWx8xJIHJyCXSNXvdOudT1Q3kkc2qW9xKlnbvbSvBHGFLJEC0iHd823JkwvGDgCbv+vW1/wDgdil39f8AhjtbrxDYWWjR6pci7S3kZURRYzNMzMcAeSE8zOf9n36VBJ4t0qGwt7uX7cguWZYoW024E7bfvHyfL8wAdyVxyOea5xLbz/Db/wBp2uu3Gkx6j5lmwe4F7FAIxh2H+vP7wuAPv4IPaqMsWpLHp11cS69Z2cL3a21/b2b3V8kTMnlxyRtHI21gCcuhYbEyVOcvXX+ui38w7X/rf8DsrzxZotlBazSXbSx3UXnRNbQSTgxcZkPlqdqDIyzYA9add+KdHsbqO3numLSKrGSKCSSOMN90ySKpWMHsWIB7Vw9zYX9vp+lpcw6rpCrpP2VTpVo1y8rFv9VKNsnljAU7sg5Zv3gxzc1wX8uhW+lLpt/ZXhtYsWNpa+dZ3z7FzDNKEYxopUrkunB6sOKa1+//AD/4H9WE79O3+X9f0ztpdXsotWi00yO93Iu7y4onfYvOC5UEIDg4LEAkYGTVceJtKOsDTBcSfaC/lhvs8nkmTGfL83b5e/g/Ju3e1cjf2F9aeKNSlg/tn+0rq/gmsGtzL9k8kJEjiTb+642PkSfNj7nJFXtRa5vfFFlDb22pI1teq72MlpiydAxJufPCY34O4L5h5AymfmCWrXn/AF+H9aDeib/r+n/Wp0Fp4m0m+1RtPtrl2nVmVS0EixyMpIZUkKhHK4OQpJGDnpUVn4v0O+afyb3asMTTmWeGSKN4l+9IjuoWRBkZZSRyOea4/SdP1B9Ztbcx6l5kc9081rcWpS008SLJiSCbYPMJLAY3vw7YCYwLOmMZIdIS70a/8rQ9Ilgv4JbF8M+yIeXGCuJs7Gxs3DjryKV9L/11/L9Q1vb+v6Z1Ft4s0a6t7qUXMkItFDzLdW0sDhSSFYJIqswJBAIBBIwM0sPivSJ9PuLwXEsUdsypLHPayxTKzY2r5TqHy2RtG35s8ZrnNO1y1uYNU1vUdK1e5vfIRxYnRLpPLjjbdHEnmRgSSbm3Ejv04UGpdJ1NJdPv9SkstTudQlkie6/4lU8BgXovkrNEpk8sZPALE5OPmC0/6/r+reYf1/X9fI6jTtZsdVsnurOVhHExWUTxPC8RABIdHAZTgg4IHBBp2k6tZa5pcOo6VOLi0nBMUoUgMASM8gHqDXD2mm6/eaTeJp1ut/b3eoiWebWmewnvoREgw6rCdvzKEx5aAouMc7jv+AYtUg8KJFrVjFYzrcT7Yo5Wf5TKxBO5EI5JxwcjBzzgMm+qR0cf3T/vH+dYo8ZaIdUmsDPcJJBN9nkleymWBZOAE88p5e4lgMbuSQK2o/un/eP8685uDcXGl+LvDkOnakb/AFO8nW3c2MqwBZEVRL55UR4Xk8Nn5eATUx1ny+X6r/NlPRL1/RnocNws0kyKsimF9jF42UE4BypIww56jIzkdQalrzrWNJMq69/aNndyWza1HMo/s5ryGZRZRJmSAfNNHuBGEyQwB42kjPNvppvdCj8TeHZZrVNMvQtktlLdAD7RDsbycO6AjBCkHy8hcjFXbb+ul/8AgBLRX/rex6rUEN7bz3lxaxSbprbb5q7SNu4ZHPQ8eleamHUtI0u/j1DTtTuJ9Q8ORWlusNvJct5qfaP3cjqCFYCRBliATnk0668NyW3/AAkQ0LSFstUvbW1kF1HYEedHlfPUyLtyxw2U3qxJzx1qG9bL+t/ysO23n/wP8/wPT6K4/wCH2nSWVtfujRx2k0imK2g0WXTIomAwxWGV2bnjJwASMjOSa7CqZKdwooopDCmn/XL/ALp/pTqaf9cv+6f6UAOooooAKKKKACiiigAooooAKKKKACiiigAoqH7LH/em/wC/z/40fZY/703/AH+f/GgCaiofssf96b/v8/8AjR9lj/vTf9/n/wAaAJH+8n+9/Q06q7Wse5Pml+9/z2f0PvTvssf96b/v8/8AjQBNRUP2WP8AvTf9/n/xo+yx/wB6b/v8/wDjQBNRUP2WP+9N/wB/n/xo+yx/3pv+/wA/+NAE1FQ/ZY/703/f5/8AGj7LH/em/wC/z/40ATUVD9lj/vTf9/n/AMaPssf96b/v8/8AjQBNRUP2WP8AvTf9/n/xo+yx/wB6b/v8/wDjQBNRUP2WP+9N/wB/n/xo+yx/3pv+/wA/+NAE1FQ/ZY/703/f5/8AGj7LH/em/wC/z/40ATUVD9lj/vTf9/n/AMaPssf96b/v8/8AjQBJH90/7x/nTqrpaxlT80v3j/y2f1+tO+yx/wB6b/v8/wDjQBNVdrC2fUo9QaPN1FE0KSbjwjFSwx05KL+VO+yx/wB6b/v8/wDjR9lj/vTf9/n/AMaAJqKh+yx/3pv+/wA/+NH2WP8AvTf9/n/xoAmoqH7LH/em/wC/z/40fZY/703/AH+f/GgCaiofssf96b/v8/8AjR9lj/vTf9/n/wAaAJqaf9cv+6f6VH9lj/vTf9/n/wAaabWPzV+aX7p/5bP7e9AFiiofssf96b/v8/8AjR9lj/vTf9/n/wAaAJqKh+yx/wB6b/v8/wDjR9lj/vTf9/n/AMaAJqKh+yx/3pv+/wA/+NH2WP8AvTf9/n/xoAmoqH7LH/em/wC/z/40fZY/703/AH+f/GgCaiofssf96b/v8/8AjR9lj/vTf9/n/wAaAJqKh+yx/wB6b/v8/wDjRQBDqmoppenvcujStkJFCn3pXY4VB7kkD26niqfhXU7zWPDVte6pHBHdu0iypb58sMsjL8uecfLUus+H7DX1txqP2oG2kMsLWt7NbMjFSud0TqehI69zUPhbw5D4W0X+z4Lm4uR50kpkuJ5JDlmJwN7MQAMcA4JyepNC63E73VjZooooGNf7yf739DTqa/3k/wB7+hp1AGJ4r1TUtH0Sa+0yG1kECF5DcO3GCMAKBznJ53DGB1zxBrGqau2tSaboL2ML2tmLyd7yF5A4ZmVEUK67c+W+WO7HHymtPXNL/trQ7vTvO8n7RHs8zbu2++MjP51R1fQb271I32kalFYTTW32W482184PHklSvzrtcFmwTkfNyppO/T+tAW7v5fnr+Bbs9Sn1Tw3aalpsEfm3lvHPHFPIVVQ4B5IB6A+nOO3Wqmj6pqmqeForxIrM3zSSIwLMkQ2yMmRwxPC5x39RWhpunnS7eGzt5V+w21tHBBEUO9dgIyXzzkbeMDGDyc8M0XS/7H0lLLzvO2ySPv27c75GfGMnpux+FVO13ykR5tL9jnn8ayw+B9C1SeONb/WEjEcaRSSKrtGZGwiAu+ArYUck4GR1Eh8R32oHS7PRL7T/ALRdW008t5c2kqx7oWRXjEJdXRsuchmJTbyDVmLwpLa+GtFsLO/VL3RVT7NdyW+5GYRmM7o9wJUqzcBgenPFMn8H/aNDWyuJbC6uHvGu557zTlmUOxJJijLYQgkbSd2AOdxOaJWu7bf1/wAP+Bq7X0KF74xvG8M2Gt293o+mW1xAH3XzGX7TMc/6PFtdOTtOG+bOeFNSap4o1mGDUb+0htLe00a1S4vba5jZ5pWMfmNGrqwCFVxyVfJPQYq/ceGbyHT4NP0TVEtrJLUWcsF5a/aVdACNy/OuHIJyTuB4+Wq134Jke3msbHU/J029tY7S+hmgMskqImzKSbhsZkwCSrdBgA0lvr3/AM/+B/V7zpdf12/4P9WtW1Xxjd2Xis6dHNp8e2aCOHTplb7VfpJt3SxEOMKm5s/I3+rbJUc1L/wlV+uoC6mayTTG1U6ULUowuQ+8oJN+7BycHZs+6d27tVi/8I3F3f3fk6lHDp9/PFcXULWu+bdGECiOXeAg/dr1RiCTgjtZuvClte+Ko9YnSzUxFHHlWarPIyj5fMmJJZQcEKAuCBknpQt1f+tv+Cvn0B35Xbf+v1s/kZ2l+K7+e+0qW+axNprUs0NrbQoyzwNGrth2LEPxGQcKu1sDnrVTw/411TWJpY4F07Ubk2Ulw1jaMY5NPmUqFtrhizDcSzDOExsb5TWzF4QtR4mn1iVLRHcsYxaWawuWZdpeWTJaRwCwB+UAMeCeaq6f4R1GwWDbrNuW0+xkstNZLDYYlYKA0v7wiUjYpwuwHnjpgWi17f5/8D/gD6lnTdS1w6nqWm3h06+uLaCOaOW3R7eNWct+6fLSHICg5HUMPlHGa0XifUn8LPdNDa/2i2qPpsQAbygwuTCHIzkgAbiMjOMcZq54Y0XWNEjaHUtS068hbLk22nyQSySk8yO7TybifoO3YYpD4VxoM9gl6VmbUJNQhuPK/wBVIbgzKCufmAJ2nkZGemeHppf+tdfwF9l23/4D/WxXt9T8SXP2vTI/7OfUbS6WGW+EDiBY2hEgk8kybickJtEnfdntWn4a1O51bRRc3ghMgmliEsAIjmCOVEigkkKwGQMnr1PWsm78KaxcaTdxx65ax3+oXKy3sxsHMMsaoE8pYxMGVSFGT5hP3vXje0e2v7TT1g1S4sp5EOENlaNbRqgAAUI0j9Pr+FJX6/1/X+fkD6W/r+v66lyP7p/3j/OvObv4gXtvq2sRLrXh9ptPu3ht9CMLfbrsKqkBWE2dzZIGIiK9Gj+6f94/zrP0fSP7JbUD5/m/bb17r7m3ZuCjb1Ofu9eOtJfHd7W/G6/S4pXtp3/Cz/WxXTxLHLqptIdOvpLdZvs736IhhSX+4fm39TgsF2g8EjFV5PGNvby3C3mmalaRxwTTwyzxIouViGX2DduBx0DhM9RUtroV9YanKbHVI4dMmuWupLb7KDKXY5YCUtgIWySNm7k4YcY56H4YrHdzXD3liZnt7i2+1R6aFuZllTbunl3kysOuflB9B2l83Jpvb8f+HKVubXa/4f8ADGzJ4w328QttG1R7ieBrgRBIg8MPQSuDJgAnovLnB+Xg1o+GLyfUfCWkXt4/mXFxZQyyvgDczICTgcDk9qp3vh28a7gudK1KO0lFqLO486185ZYgcgqA67XBJwcsOTlTxWno2nDSNCsNNEnmizto4BJt279ihc47ZxWqtZ/13/S3zI1uv67f8Eu0UUVJQUUUUAFNP+uX/dP9KdTT/rl/3T/SgB1FFFABRRRQAUUUUAFFFFABRRRQAUUUUAQ/ao/7s3/fl/8ACj7VH/dm/wC/L/4VNRQBD9qj/uzf9+X/AMKPtUf92b/vy/8AhU1FAFdrqPcnyy/e/wCeL+h9qd9qj/uzf9+X/wAKkf7yf739DTqAIftUf92b/vy/+FH2qP8Auzf9+X/wqaigCH7VH/dm/wC/L/4Ufao/7s3/AH5f/CpqKAIftUf92b/vy/8AhR9qj/uzf9+X/wAKmooAh+1R/wB2b/vy/wDhR9qj/uzf9+X/AMKmooAh+1R/3Zv+/L/4Ufao/wC7N/35f/CpqKAIftUf92b/AL8v/hR9qj/uzf8Afl/8KmooAh+1R/3Zv+/L/wCFH2qP+7N/35f/AAqaigCH7VH/AHZv+/L/AOFH2qP+7N/35f8AwqaigCul1GFPyy/eP/LF/X6U77VH/dm/78v/AIVJH90/7x/nTqAIftUf92b/AL8v/hR9qj/uzf8Afl/8KmooAh+1R/3Zv+/L/wCFH2qP+7N/35f/AAp0VxDOGME0coV2RtjA4YHBHHcHqKkoAh+1R/3Zv+/L/wCFH2qP+7N/35f/AAqaigCH7VH/AHZv+/L/AOFH2qP+7N/35f8Awp888VrbyT3MqQwxKXkkkYKqKBkkk8AAd6eCGAIOQeQR3oAh+1R/3Zv+/L/4U03Ufmr8sv3T/wAsX9varFNP+uX/AHT/AEoAj+1R/wB2b/vy/wDhR9qj/uzf9+X/AMKmooAh+1R/3Zv+/L/4Ufao/wC7N/35f/CpqKAIftUf92b/AL8v/hR9qj/uzf8Afl/8KmooAh+1R/3Zv+/L/wCFH2qP+7N/35f/AAqaigCH7VH/AHZv+/L/AOFH2qP+7N/35f8AwqaigCH7VH/dm/78v/hRU1FAHO+NdMi1rRYNNnmso1uLyHCX9v58MpVt4RkyN2dvTIzjFHgoQwaRc2FvYafZCxu5LdhptuIbeVhgl0QZ253YIycMCMnFbl5ZWuo2clpqFtDdW0o2yQzxh0cehU8Gi0s7bT7SO1sLeK1t4htjhhQIiD0CjgUR0v8A12/y/qwPW39d/wDP+rk1FFFADX+8n+9/Q1i+KrbSp9PiOuwteWyS/LYbQ63khUhYzGeH65APAIyemRtP95P97+hqnquiaVrtulvremWepQo+9I7y3SZVbBGQGBAOCefekwOMt/DtuNT0PRPEdtb3FkbW9uksZgJYIpPOjZEAIwfLR2VfQAkAdtfQ7gP8MInmvNi/YHK3EpL7YwGCue5G3Bz3rTHhPw4NKXTBoGljT1k81bQWUflB/wC9sxjPvjNaS2lusyzLbxLKsflBwg3BM5259PaiS5lb+v66eg07O553o+h6RoS3mjX9tottamygu5r3R7MWnnRK+BHMMsXDY65+cFxgd7sZk8K+HLqbT9LutPh1S8UWlnY2Ek/9nxlApkMUSttPys+0DG5gD3NdOvhbw+un3FguhaYLO6ffcWws4/LmbOdzLjDHIzk1LpPh/RtBWVdC0ix01ZiDILO2SEOR0ztAzjJqt9/61/pfj1JWm39af1+R5jpBtr/wTpWk6faSXq/8JBexrZaxHLBDeKHuH2zNIhJwMN91zvUAjIbbfttOE+i2Uuo6Ums6XYS30FzYGWLyrSTz8qy+ayq0cQVlVuGUYwoOVHoVxoul3mnyWF3ptnPZyuzyW0sCtG7FixJUjBJYkk+pzQ+i6XLZ29pJptm9tasr28LQKUhZRgFVxhSATjHrQ3dt/wBf1/V0U3d/15/5/wDDnD3NtJc/Drw1qGo+cbxLrTdped2wGuosEg4BbaeWIz1rR8Y+FvDut6ja2lxoOl3Op6pIBLdy2cbzJBGB5j7yN3TagOeC6+ldhPbw3UYS5hjmRXVwsihgGUhlOD3BAIPYgGj7PD9p+0eUnn7Nnm7Ru25ztz1xnnFF9Led/wAv8g6WOO13wp4c1LxVYW6aBpZvnlF9d3v2OPzljiI2/PjdlnCjryof0qtqNrZReKbHVLK2tXD6mILjVUmL3olLMv2faVH7roD85wOdnG4d0tvCly9wsMazyKqPKFG5lXOAT1IG44+p9arDRtLGrnVRptoNRKbDeeQvnFfTfjdj2zSWjX9f1t/Wwnqmv6/r+vM5W18LeHo/HBudD8PaXZto0TM01rZxxu9xIpwm5QD8sZJI7+ap7Vn+EEeeOwj1620jUf8AhJdPae6K25aYlQpZJmdmEqZkYY2qE4UDB49Dit4YPM8iJI/Mcu+xQNzHqxx1PHWq9rpGm2N5c3dlp9rb3N2d1xNDAqPMfV2Ay340dLf1/X+QPXX+v6/zOO0jw14bSPXNVtbGy0TTJcWwksYUtg8EL5kZioHDOGU+qKMdaRPDUp8PX7aPpK2dhd3UE0eixhYBJAjLvBThUaQA5Q4BGA2CWx2c2ladcaUdMnsLWXTygjNo8KmLYOi7CMYGBxiqlj4U8O6Zb3VvpugaXZw3ieXcx29nHGs68ja4Aww5PB9TR/X9f1bfQNP6/r+tDibDWJNK0rVbfTtMvtOsZ9TFtbRWNo13/Z6eShlIS3V1XDbgAu5Q5PPXG/8ADO4tpvAttFYpdJFbzTxKLmCWJsCViP8AWAFuCOeecjqDXU29vDaW6QWsMcMMY2pHGoVVHoAOBRBBDbRCK2iSGMEkJGoUAk5JwPUkn8aZNtUx0f3T/vH+dcGdP0XULXxBqviXbFf2V5NGL5RuubGMY8ryTtLISm1gFHzFujZ57yP7p/3j/OqdxomlXepw6jdaZZzX1uMQ3UlurSx/7rkZH4Gkviv/AF0L6WON1TXddsYfEN/Bez3CWuow2FtaJDCvlrILfMmX25ceYxG5lXnnPGC21XxI8dvpd/NfaY11qf2aO+uxZtdLH9naXBWIvCHLLtBK/dI+XPNdybK1MdwhtoSl0SZ18sYlJAUlh/FwAOewAqovhzRE0dtITR9PXTW+9ZC1QQnnPKY29fan0+79P6+ZOv5nFaSs7yQ2iX58yTUNVT7akMRlUhj8yllKg+uBg9x2qzo5v9O+ANtLZXdxcXiaEskMpVd6HycgKEUZ29BwTwMknmu0t9L0+0WJbSxtoBDuMQihVfLz1xgcZ74p1lYWem2/2fTrWC0h3M/lwRhF3E5JwOMkkk1MVyxcfT8FYq+t/Ns5gWXhfw3NDfaXJDps0llNOWto9y3UaoCZZgozJt+UhicknGfmwcFfEviGCHVrZrm/SUWUN1bXGow2m5S8uwlEhY/uyOgk+brye3f2Oh6TpklxJpul2Vm90d07W9ukZlPqxA+b8aitPDeh2ELxWOi6fbRyffSG1RA3O7kAc8jP1oab/r1/4BP2bLf/AIY4vxhJqMmj+J9Ol1+ZItN0NpSGih3XZkSYEyfJwo2BRs285yTXoVt/x6Q/7i/yqtf6JpWqzQy6nplneSQZ8p7i3WRo8jB2kg4yOuKvABQABgDgAdqq+g3sl2v+n+QU0/65f90/0p1NP+uX/dP9KQDqKKKACiiigAooooAKKKKACiiigAooooAh23X/AD2h/wC/R/8AiqNt1/z2h/79H/4qotS1KDS7Tz7gSOWcRxxRJueVz0VR6/oBkkgAmprWZ57WOWW3ktndQWhlKloz6HaSufoSPegBNt1/z2h/79H/AOKo23X/AD2h/wC/R/8AiqmooArstzuT97F97/nkfQ/7VO23X/PaH/v0f/iqkf7yf739DVHV9XXSo4Qtpc31xcOUgtbULvkIBY8uyqMAE5ZgO3UgUAWtt1/z2h/79H/4qjbdf89of+/R/wDiqw/+Eytpba1Njp1/e3dy0yixhWNZo/JfZLu3uqAKxAOGOSRjNaUWt2c3h9dZjaQ2jQ+dxGxfGOmzGd3bHXPFAeRa23X/AD2h/wC/R/8AiqNt1/z2h/79H/4qsVPF9usd0L3Tb+yu7fyj9imWNpZBK5SMrsdl+ZlI5YYx82BzSDxhbixmkl03UIr2K4S1OmssZnaVlDKoIcxnKnOd+AAckYNAG3tuv+e0P/fo/wDxVG26/wCe0P8A36P/AMVWVF4ptJNLa6e2u4p0uPsrWLIpnE2M+XhWKk4IbIbbt5zjJp1/4i+wpYx/2Tf3F/eI0iWEJh81FXbvLEyCP5dyg4c5JGM0AtTT23X/AD2h/wC/R/8AiqNt1/z2h/79H/4qsifxfp0Wn6fepFeTW+oNCsUkdu21fNdUXcTgL8zDIzn2p2p+JJLHWP7NstD1HVp1gWeT7G9uoiVmZVz5sqdSjdM9KB26mrtuv+e0P/fo/wDxVG26/wCe0P8A36P/AMVVHVPENlpGoabY3Ile41KbyYUiTdt4yWbnhRwM+pFQN4ohTVVtXsL5LZ5/sy6gyIIDN02Y3b+oxu2bc8ZoWv8AX9dxPTc1dt1/z2h/79H/AOKo23X/AD2h/wC/R/8Aiqx7HxZbX2pRWwsryGC4keK0vZVQQ3TpuLKmGLjhWILKoIUkE1Yt/EVvcWl5erbXS2FshkW7MYKXAGc+WoJdsY67QGyNu6jzA0Nt1/z2h/79H/4qjbdf89of+/R/+KrFHi+CKy1ObUNNv7CTTbU3klvcLGXkhw2GQo7Kc7GGCwI4yBkU4eJ3h0ua+1PQtT00I8ccUM7W7yXDuwVVQRSuMliB8xUc+mSADY23X/PaH/v0f/iqNt1/z2h/79H/AOKrPsPEVtd2F5c3cM+mtYEi7hvNgaD5Q+SUZlI2kHKsR+IIqbQtZg8QaLb6naRTwwz7tqXCbJFwxUhl7HIPFArlhFudpxLF94/8sj6/71O23X/PaH/v0f8A4qpI/un/AHj/ADrmZvHMUE+os+iap/Z+mzNFdakPIMMe0As23zfMIAPZKN3YZ0W26/57Q/8Afo//ABVG26/57Q/9+j/8VVc65pIluIzqdmJLZDJOhuEzEo6swz8oHqajbxJoaaMurvrOnrprHC3pukEJ5x9/O3r70AXNt1/z2h/79H/4qjbdf89of+/R/wDiqgm1rS7c2wn1KziN3j7OHnUedkgDZk/NksoGPUetUU8Vadc+JIdH0+6tbyVlm88wXKu1u0e35WUZwTu74xijYDV23X/PaH/v0f8A4qjbdf8APaH/AL9H/wCKqaigCHbdf89of+/R/wDiqNt1/wA9of8Av0f/AIqpqKAIdt1/z2h/79H/AOKppW581f3sWdp/5ZH2/wBqrFNP+uX/AHT/AEoAj23X/PaH/v0f/iqNt1/z2h/79H/4qpqKAIdt1/z2h/79H/4qjbdf89of+/R/+KqaigCHbdf89of+/R/+Ko23X/PaH/v0f/iqmooAh23X/PaH/v0f/iqNt1/z2h/79H/4qpqKAIdt1/z2h/79H/4qjbdf89of+/R/+KqaigCHbdf89of+/R/+KoqaigDnPGWiHWLXTpDYDU47C8+0S2BKj7ShikjKjeQpP7zOGIBxg9an8JadNpmjyRS2v2CJ7h5Lax3K32WIniP5SVHc4UkDOAcCtyihaA9bX6f8H/MKKKKAGv8AeT/e/oax/FF5rFppS/8ACP6bPfXM0gjY27QhoEIOZAJXRWIxgDPUgnIBFbD/AHk/3v6GnUnqBxVtbX+nz6Xqen+GtRCW1vcWktjLcWxuSZHjfzi3nFGyyNu+fdls4rV0i21XSPC8FhFaRyX0VqZAzSgQmUkny8/e7/e24/lXQUU3r/X9ddRWOIsINa0oa1qum6Bfs9xHGIdPvr6KaeSYM25hI0rARgMCEMg6NhVzyyCx1OSwtrwaDqaX9jqK3063s1sJL9mjeNynlysq7VYbVYqAFUZ713VFG2w/6/CxwF74Yu9Rt/7S1HRjdq+rtqEujSSRl3iNv5ARst5bNwG2ltvbNQyeGdQjsNP87R72Sxhlunj07TL5be5tBI6+WolEiAIq7gyLJtGVADBRj0Wij+v6/q4f1+f+ZyU+iam3gPSdNaGJru2urF5I4iqqiRXEbtjoPlRT0AzjgdBUHjLQX1S6nMPhmG/vJrYRWWqI8ayWMg34ZmdgyhS2QY9zcsMdM9pRTv8Anf8AL/IadlY4TVvC3iqTWor601fTZw19BIRNprmSGJAQBu+0AMoJY4Cgkuat39hq2oeKrOZtNuIpLS5DLe/bA1m0GTkeQXz5xViN3ljB/jxwewoqUrfff8v8iWr/AHW/P/M4fT9E1V5NE0u5sJLa30SeWT7cZY2juFMUsSBAG3hsSgncqgYIBNVPDfhjUdCe1Gl6DBp93Yae9vcXckybNUlCqIyShLkZUndIAy5wAQTXodFNaKxT13OJsdFvpm12f+xp4Yb+2EZstYvBcNPIC+cOryFIiGwF3YBJIRed1SDw3eql5daRoH9jWyXFncQaQXhTzJIZWaVwI2aNS6lQORkqC2Oteg0ULTb+rO4mrpp9TiW0DXtYa7vo5IdFN1fx3Js9QthdFkjiVVVxFMoB3ruwHI4XPcVreCdO1fSvDa2uvSW73InmdRbwmMKrSMwz875JyT1GAQMZBJ6CihabCau7sbH90/7x/nXH6Z4Htp9R1i61uG8b7VqUk0cB1Gb7PLGVXBaBZPLOcHIZecc12Ef3T/vH+dOpJWlzeVvyf6A1dW/rr/mcbP4dvP7M1AxWaNK2trqHkhkBuo0kRgM9MkLxuxyBnA5pmqW+sXcMF7YaDcabJJdNJL9lNm98mYwgkzKTCpOCGwzHaBjqQO1ooStFR9Pwsv0Q+t/66v8AU4Xwv4Y1Kyn0Z9Rt9r2enXtu0ztGzRvJOjJjbgcqpPygAYxgdKd4c0nVLbUPD8N3ozWsejWEtpLdGWJlmYiMBowrFtrFCTuCnPbvXcUU+lv63b/ViSt/Xkl+gUUUUDCiiigApp/1y/7p/pTqaf8AXL/un+lADqKKKACiiigAooooAKKKKACiiigAooooAh+x23/PtD/37FH2O2/59of+/YqprVnNd2eYdavNHERMjz2qwklQOQfNjcY78AHjrVXwgb+Tw5DPql9cXr3DNNFJdRxpIIWOYwwjRVztwTwOSR2oWoM1fsdt/wA+0P8A37FH2O2/59of+/YqaigCu1nbbk/0eL739wehp32O2/59of8Av2Kkf7yf739DWd4ia+i0K6m0y7S1lhieQu0PmHAUnAyQAc45IPfjuJlJRi5PoNK7sXfsdt/z7Q/9+xR9jtv+faH/AL9iuW1y51+40TQ30htT3TgSXkmlpamUr5ROB9oHlgFiD68YFXhq0i/D6fU9Nu2u54bKV45tRCREyIDxLtCqpDDDYAAwauXutp9CYPntbqbf2O2/59of+/Yo+x23/PtD/wB+xXGaBquraouo2tpq15KkcMEqXOp6eILmMuz+aFh8tMqFUbGKEFs8vgioIPFeow6DcrbT3mpTtqUdjZyXVmsV3ho1ZjJDiMKw+fbuVARtJ4+Yp6O39a6D/r9Tuvsdt/z7Q/8AfsUfY7b/AJ9of+/Yrm11O+uvB929je3Nrf6eJFujqNvE86OqbwpEZEecMhBG5cH1OQ/VDdS+FrbV5PEOpaWIbMTTCxitmMzFQeksT854AXHWlffyt+N/8g7ef6f8OdD9jtv+faH/AL9ij7Hbf8+0P/fsVyGp2mu2PhO3u7zxTqsWox26RNDbRWeLi4c4UHfA3JZguRgYGcDmrt7NrWlah4agm1VLiO4uFtbr/RlVp2FvK7OSOBlkBwoXHPWqtrYFqr+V/uOi+x23/PtD/wB+xR9jtv8An2h/79ise7udSt/GOmwm8jNjdiYfZ1gAI2oCCXJJJznpgY7HrWXB4puZfFEzXSX8Gkw3p0+KSOGH7O0uQg8xmJlJLnClAFHGSTnEp3fKt/6/zQPRXOs+x23/AD7Q/wDfsUfY7b/n2h/79iuG0XxXcS+INNguNYF3dX9xNb3mkiOMf2aypI6/dXev+rx85O7OVwKn8PXutnVmg1u91m2vLqOZrSG/t7RrQkHI2eSBL8oI4dlLDJ5xkPt5h1Oy+x23/PtD/wB+xR9jtv8An2h/79iuVXxDqOl+G/EF3eyi/ubC9a3t8Q7QxKxhBtXkjc/qTjvUunahqV5pd7YtdX9pq1uySTtfW8LSxxOT80SQ7kIIVwoJYgj5s4wTpfyT+8Sd/va+46X7Hbf8+0P/AH7FH2O2/wCfaH/v2K4eLVtev/C16uk3epXc0OpRwRXC20EN95OEZy8UqKiPywG5F+Uq2OcnpPC12brR2Et3qFzcQzNFP/aKQpPE452MIVVOAQQVyCCDk0/6/L/ML2/r1/yNJLO2KnNvF94/wD1p32O2/wCfaH/v2Kkj+6f94/zrgrbxZq1vqPiODU5UNt9puItKuAgHlyRxBjC3GCSMspOc4YHoM5ymo3v0Tf3W/wAyrbebt/X3Hc/Y7b/n2h/79ij7Hbf8+0P/AH7FcufF19FYtNBpq3sGn2kU+pTtceU43R7yIkCEOwXkglByACecafiDU54LPT4tNlEU2p3SW0dx5e/ylKs5bB4ztQ4zxkjOehuWjt52/QmLur+V/wBTV+x23/PtD/37FH2O2/59of8Av2K5HXRr+iaYoOpS6nGdQsVt5XZIbhy1wqyRv5aomwjHIGcFgQeMzz+M7q00u/kvrDT7S8sLsWtx9p1QRWkeY1kVzOyA7SrqOIydxxjHNPpf+un+Y9b2/rr/AJHT/Y7b/n2h/wC/Yo+x23/PtD/37FctpPjmTXptJXR9OguI76KeWWf7aPLiWGZYnKMqnzASxKkYBwM7c8Mj8eTD+z7y70pIdI1ISyW10t0Wk8qOJ5d7x7BtLBOAGbg8kHihrlV3/VgWuiOs+x23/PtD/wB+xR9jtv8An2h/79iuW8J/EGy8Uao9hFJprStb/aolsNSS7Kx5AIlCgeW4LL8uWHXDHBrr6GmhXTIfsdt/z7Q/9+xTTZ23mqPs8WNp/gHtVimn/XL/ALp/pSGR/Y7b/n2h/wC/Yo+x23/PtD/37FTUUAQ/Y7b/AJ9of+/Yo+x23/PtD/37FTUUAQ/Y7b/n2h/79ij7Hbf8+0P/AH7FTUUAQ/Y7b/n2h/79ij7Hbf8APtD/AN+xU1FAEP2O2/59of8Av2KPsdt/z7Q/9+xU1FAEP2O2/wCfaH/v2KKmooAp6rpsWr6ZLYXLyLBNhZRGQC6ZBKHIPDDKn2J6dauAYGB0qHz5P+fWb80/+Ko8+T/n1m/NP/iqAJqKh8+T/n1m/NP/AIqjz5P+fWb80/8AiqAJH+8n+9/Q1Hd2yXtlPaylgk8bRsV6gEYOPzprTybk/wBFl+96p6H/AGqd58n/AD6zfmn/AMVSaTVmNOzujPu9AWezs4bTUb3T5rNPLiubZkL7cAEEOrIc4HVeMcYpq+GLIaM2ktJcNYPbtBJCXHzliS0hbG7eSSc579K0vPk/59ZvzT/4qjz5P+fWb80/+KpvV3JskrGInhCIrcPeatqV5eTLGq3kskaSQqj70CiNFXhjnlTno2RxT18JW5sZo7i/vbi8mmSdtRdoxOJEACMNqBBgDGAmDzkHJzsefJ/z6zfmn/xVHnyf8+s35p/8VQMoWfh+C00q8s3uLi5e+LNdXUxXzZmZQhY7VCg7QAAFAGBxUk2iW1xZWFpI8pgsZI5FTIxKYx8m/jkBgrcY5UduKt+fJ/z6zfmn/wAVR58n/PrN+af/ABVHW/p+G33B/X37kN5psN9eWVxO0h+xyGWOMEbWcqVDMMc4BOPrnsMF/pcOoXNhPM0itYXP2mIIQAzeW8eDx0xIemOcVN58n/PrN+af/FUefJ/z6zfmn/xVAEVxp0NzqVnfSM4ls9/lgEbTvGDnj2rNl8KWsuqG6N3di2a4W7fTwyeQ86kESH5d4OVBwGCkjJBOa1/Pk/59ZvzT/wCKo8+T/n1m/NP/AIqhaO6DpYqLo0Z1k6lc3VxdSKCsEUpXy7YMAG2KqjJOOrbjyQCASKq6d4Xh0/UYrpr++u1tkZLO3uXRktVbAIUhQzcDGXZiB0PJrV8+T/n1m/NP/iqPPk/59ZvzT/4qgCi3h6ykstStZfNki1KZppgXwVYqo+UjBGNoIPUHvVRPCUP2e5+0apqNze3BjJ1B3jWZPLJaMKERUwpY8FSDk7s5rZ8+T/n1m/NP/iqPPk/59ZvzT/4qj+vuD+vvMdPCkSWMqf2nqDX0swuH1LdGJzIFCBsBBHwoxt2bfUZ5q/pGkxaPaPFHNNcSSyGae4nIMk0hxlm2gDoAMAAAAACrPnyf8+s35p/8VR58n/PrN+af/FUBuSR/dP8AvH+dYV74O0zUNE1bS7oztBqs73ErBwHikYDDIQPlIKgjrz61rpPJtP8Aosv3j3T1/wB6nefJ/wA+s35p/wDFUmk9/wCv6sBh3Pgy0uMpHfX1tbzQJb3lvC6BLxFXaA+VJB28EoVJGATwMaupaTbanYLay74hGyyQyQna8Lqcqyn1HvkHoQQSKn8+T/n1m/NP/iqPPk/59ZvzT/4qm9QWmxjJ4QtmUvfX15fXbT28z3k5jEj+Q++NMIioFBzwFGdx5zzSXvhC2ur2a9gvr2zvJLwXi3EBjJicQiEhQ6MuCg7gnJJBHGNrz5P+fWb80/8AiqPPk/59ZvzT/wCKp3f9f15AZOkeFLLRrmGe3nuppIVuVBmdW3efMJnJwBzuHHt69a5yy8KXk/iSziura/h0jTjPtguriCS3KyRtGEh2DzCuHJ/e42gYXiu58+T/AJ9ZvzT/AOKo8+T/AJ9ZvzT/AOKpPXcPMo6Ror6TuU6rf30YUJDHdOhECD+EFVUt25cs3v1rUqHz5P8An1m/NP8A4qjz5P8An1m/NP8A4qgCamn/AFy/7p/pUfnyf8+s35p/8VTTPJ5q/wCiy/dPdPb/AGqALFFQ+fJ/z6zfmn/xVHnyf8+s35p/8VQBNRUPnyf8+s35p/8AFUefJ/z6zfmn/wAVQBNRUPnyf8+s35p/8VR58n/PrN+af/FUATUVD58n/PrN+af/ABVHnyf8+s35p/8AFUATUVD58n/PrN+af/FUefJ/z6zfmn/xVAE1FQ+fJ/z6zfmn/wAVRQA2+v7PTLOS71K6gs7aMZea4kEaJ9WPAp9tcwXlrHc2c0dxBKoaOWJwyuD0II4IrmvHk32ez0q4NzBY+RqCyC/u13W9riOT55Rlcqc7R8y/MynIxzN4EYP4dkdXSYPeXEn2mJdsVyWkLGSMdkJPAyf95vvEWt/67f1/Wg9Lf13/AMv669JRRRQA1/vJ/vf0NNnuIbWB57qWOGJBl5JGCqo9ST0pz/eT/e/oazPE1nbXfhy++1W8U/lW8rx+YgbY2xhuGehwTz71FSXJBy7FRV5JF251Cys7Br68u4ILRVDtcSyqsYU9DuJxip1ZXUMhDKwyCDkEV59reEHhSe/1j+xdLhsnZr4rFiO42xCP5pVZFJUygEj1A5IrTn1TUdR+G10sMmNdm0yaSFEQrI/BVZBH1G7g47E4rSS5W/6/r/IiL5lF9zpI9X02WG6mi1C1eKzYpcusylYGAyQ5z8pAIJBqKPX9Hl0dtWi1WxfTVBLXq3KGEAHBO/O39a4zStT06K1ubU6omt6DZxW8gnFtGY7GYS8IREqqFTCsVb5kAyx5FQWW+90/UNaXUtJu2tNVjv8A+0BJ9n0+92wCPAbL7AoIG7MnzIDn+FVpv/X9f1djX9fcd5LrelQaQNVm1Ozj04qGF49wghIPQ787cfjT5dV0+HS/7Smv7WOx2B/tTzKItp6HfnGPfNcRYXkdhoc+q6xJZaYbnU5p9Pu7mF2tbMtHt3tuMZ2sRJhiU3b8jG4CsuP5LXQbnUNXGjaYk2oSvqYWLymuWmBjkQzKyIrq0pTIPDYBOQxP+B+W3qC1/H+v6/4f0271KxsLVbm+vLe2t2ICyzSqiEnoMk45p8t3bQTxQzXEUcs5KxRu4DSEDJCjvwCeK83u9QuprrSdU1/XDoQGmv8AZbo28S+dMZMEASqwUugQ7AA5BIUjBravFN1N4K1S/sIrXU7q8jNziPDq32OclCeuASeD0ppX18/1a/QF+l/wudQ+r6bFqselyahapqEqF47Rp1Err6hM5I98VR/4TPwv/an9m/8ACSaR9v8AN8j7L9vi83zM42bN2d2eMYzmuV1+1u4Ncn0qyfT7iXUtTtdRUeaxu4ArxAkxhcbAsLYkLAfw4Pfprtv7W8WW9ivNrpai6uPRpmyIk/AbnI7HyzSWtn/X9dPP5g9L/wBf1f8AA2Eu7aW6kto7iJ54gGkiVwWQHOCR1GcH8qgtNZ0zULi5gsNStLqa0bbcRwzq7Qn0cA5U/WsKxtbex+IWsLZ2scSnSbVzHAgXcxmuSencnvXIeGZrORbOC9lt9XtrPRJ4JLGwgYzWEZ8omC5AJLyELt6RklW+Q5O0X9fj/l/XWmrO3p+KT/U9Lstc0nU7Wa503VLK7t4CVmlguEkWMjqGIOBj3pLXXtIvtLk1Ky1WyuLCPO+6iuEeJMdcuDgY+teeXdyurf29d215ZaxaiKzD3OmRERJbx3JZ4HUM+6QIXJ56HGxf4tC6+y6/ea7quj39hJp8H2G4F08w+ySy27vI4aQZGAuwFhnbx124o6X/AK9SfT+tDurG/s9Tso7zTbqC7tpRmOe3kEiOPZhwafbXVve263FnPFcQvnbLE4ZWwcHBHB5FeeW02uXOn6rc2mjy3dvq+pKZBpU8Y2wiBFkeN5mi3bmUrvAXjLAdCd34ayF/BMEf9mTabHDPPHHDKY/uiVsbfLZgAM7e3KnjGCWTfVI6mP7p/wB4/wA6g/tKx8kTfbLfymm8gP5q7TJu2bM5+9uBXHXPHWp4/un/AHj/ADrznU9Kn1LxJqfh+JCFtZG1u2bHyrK6BYc+v74TP9VFTfXX+v6Vy+mn9f07HoiXEMk0sUcsbyQkCRFYEpkZGR2yOakry2XWI7jw3Hq87yWS6/qEs48/U302LaiiKNZJ0UuhKxqVVcEnOeOKLfV9abw/pEhu7lptdgfSRIkrP5FwszBJASByIvNYvhSfLXIzxT8v6vbb9Cbq9v60f9M9Fl1nS4NVi0ubUrSPUJl3R2jzqJXHqEzkj8KsT3MFsENzMkQkdY0LsBuYnAUe5PauD1nWfCg8RN4dk1bS7CRLyC81B7u9RJZJk2NEiB2yWOxMnoF4HJ4Swe6j0dL86hfST3PiR7dvMunZViW+kQIq5wBt46cjAPAADSuk+7S++39fiEnyxcu3+Tf6HdXF/bWtza288myW8kMcC7Sd7BS5HHT5VJ59KsV5fpt1DdeINAkbUp7rXhe3B1CzluncWz/Z5sL5JO2IdlwF3Dn5utS/D7UNYvtbia/vrRpjaMdUtRrE11Mk2VwWt2iVbYg7htUgHPRsZoWoX3PS6KKKQwpp/wBcv+6f6U6mn/XL/un+lADqKKKACiiigAooooAKKKKACiiigAooooAKKh8iT/n6m/JP/iaPIk/5+pvyT/4mgCaiofIk/wCfqb8k/wDiaPIk/wCfqb8k/wDiaAJH+8n+9/Q06q7QSbk/0qX73onof9mneRJ/z9Tfkn/xNAE1FQ+RJ/z9Tfkn/wATR5En/P1N+Sf/ABNAE1FQ+RJ/z9Tfkn/xNHkSf8/U35J/8TQBNRUPkSf8/U35J/8AE0eRJ/z9Tfkn/wATQBNRUPkSf8/U35J/8TR5En/P1N+Sf/E0ATUVD5En/P1N+Sf/ABNHkSf8/U35J/8AE0ATUVD5En/P1N+Sf/E0eRJ/z9Tfkn/xNAE1FQ+RJ/z9Tfkn/wATR5En/P1N+Sf/ABNAE1FQ+RJ/z9Tfkn/xNHkSf8/U35J/8TQBJH90/wC8f506q6QSbT/pUv3j2T1/3ad5En/P1N+Sf/E0ATVRn0pLnWLa/nnmcWoJhtzt8tHIKmTpuLbWK8nGD0zzVjyJP+fqb8k/+Jo8iT/n6m/JP/iaAJqKh8iT/n6m/JP/AImjyJP+fqb8k/8AiaAJqKh8iT/n6m/JP/iaPIk/5+pvyT/4mgCaiofIk/5+pvyT/wCJo8iT/n6m/JP/AImgCamn/XL/ALp/pUfkSf8AP1N+Sf8AxNNMEnmr/pUv3T2T2/2aALFFQ+RJ/wA/U35J/wDE0eRJ/wA/U35J/wDE0ATUVD5En/P1N+Sf/E0eRJ/z9Tfkn/xNAE1FQ+RJ/wA/U35J/wDE0eRJ/wA/U35J/wDE0ATUVD5En/P1N+Sf/E0eRJ/z9Tfkn/xNAE1FQ+RJ/wA/U35J/wDE0eRJ/wA/U35J/wDE0ATUVD5En/P1N+Sf/E0UAUdc1ebTBaQWNql3e30xht4pZvKj3BGclnCsQNqHopOccVJouqHVrAzSQG2nileCeHfu2SIxBAbjI4yDgZBHA6VH4i0satpJhW1S5nR1khDXclqUbpuWaMF0O0tyvXOOhNN8NaGPD+jC03rJK80k8rqDgu7FjjJJOM4ySScZPNC/r+vvB9Lf1/WhrUUUUANf7yf739DTqa/3k/3v6GnUAZHiTW59B0t72HTpL1I1LyESqioAR1J5yc8YB6HOOKr694iutLvha2FhDdOlq95OZ7ryFWJCAdp2tubnodo9WGRVzxJps2seG73T7ZkWW4iKI0hIUH3wDWN4r8MXOs6lFcrp+l6tEsPlJb6m7Ito+SfPjwj5fBA/hPyjDDmpd+n9af5gt3fy/PX8Dcmvb240SK80S0hnnmRJI4b2drddrAH5mVHIIB6bTzWFH4t1WOwvpNQ0ezS4gvYrGBbbUGlillcqPmkaJCoUuASFbnIGSMVtW8GrWelfZVkgu54LJEiuZ5GUzzhSCXAU7VJCnIJPJ445zL/wtI/g630i3MN20TrJcRXZKxX53FpFkIBwHYkngjPUEZFXKyk7bf8AB/yEr8qvv/wP8xh8XXf2JI00uI6q+oHTvIN2RbiURmQnztmdm0Yzszu4xSReL7y/js4NJ0qKbUZzceZDPdmOGMQSCKQiQIxbLEbflGQcnbg1mt4Kvm0FLV7LSJIFvTc/2Azt9gEflbBCG8v7of8Ae/6vG4/d6EWbLw1rWjrp95py6fNdW6XEJsZJ3igiilkV1SOQIxxHsCgbQCOy4ABp1/rT/P8A4cfTT+tX+li5J4qvptGg1LS9GWWD7Mbm5a7uxAIgM7kUhWDONp4O1enzc1HqPjSW1kkktdM86ztbWG7u3mn8qZUl3bRHHtO9vlOQWXngEmqt54S1A6BY6SbXR9YgiiAcX4aP7PPliZ4iEc5+Y4HykY4bmoNX8Eale3CsPsGoTm1igh1a+ZludOdVwZYVCMCzH5+GTnqSMYUb9f63/wCB/VxO/T+tv+D/AJGxd+K57fUbry9NWTTLG5jtbu6NxtkSRwhBWPaQyDzFySykc4BxUs/iC/ttXhjuNJWPTp7r7JHObn9+z8/N5OzHl8H5t+cc7cc1T1zwcus65HN5MUVu7Qy3UwupcztG4IU24xEThFHmNlgOAOAaS68O6le+KYL6eDS0NtOHj1aIlbzyQxP2YrsxsOSCd+D1255At1/Xa/8AX56Xb2f9f1/W2tprDxZcXV9Zm401IdN1KWSGxuVud8kjIrtl49gChljYghm7ZAzUekeM5dQaF7zTktbe8sZNQs3S58xjEmzPmrsHlt+8HALjg88VFY+GdVjuNMtLp7SPT9GllltLiGVmml3JJGishUKu1ZDyGbJA4FVvD3g3UNKui4h0vT3W0kgmu7MtJJqUrBcTzqyr8wIJwWcnefmHOVry+dv8/wDgFaXNHwd4quPE9m93PHo0cKxqxGn6sbt4mIyUlHlIEIHue9SaN4sfXIdVlstLmdbG6WCACVAblGjRxKNxAVSJM9ScDPU4qjJ4V1PW5bptalg0nzLIWKnSJRI0ibwxZvMi2gcbQm1gA78nNXPC/hm/0HVdZub7WrnUo76dJIhOsIICxIm5vLiTDZUjA42heM5NVo3/AF3/AMiY7a/1t/wfuCTxnb23hG11q9hjtnum8uOCS4VVD5bOZGwAoCsxPYA4BPB2tKvhqWlW14slrIJow260uPPiP+7Jgbh74H0rnm8L3kfh7Ro4vss2oaPdG6ijldhDKxEi7S20lflkJDBTggcGtbw7plxptlcG+8lbi7upLmSK3JMcRc/dUkAnpknAySTgZxUxu1r/AF/Wv3A+lv63/wCB9/kakf3T/vH+dc6vii9n1K7Sx0pLmxsrkWtyyXX+ko+R8wg2YKfNnJcEqCQDxnoo/un/AHj/ADrkNV8M6rqOrJI8Glu8c4kg1nc0d5bR7w3lKqphhgFc+YAQeVPOX9oOhr2vi/RbzUlsbe5kMzzSQKzWsqxtLGWDxiQqELAo3y5yQMjjmsS58fnTPCr6tfWyzyR6fNeGC2SUs5R9oGFRtq9MsTx1xjJFXw3p+q6naxxMtnHpdvrt5dGYSuZ3ZLuYhNm3aBuwS248cbe9Ty+CL+bRJrFri2VpdGutP3gsQHlfcp6fdA69/ajaavtr+Wn46Dek2vP/ANus/wANTsrO6S9sobqJZVSZA6rNE0bgH1VgGU+xANTVDZm4NlD9tjiiuNg8xIZDIitjkBiqkj3wPpU1N7kq9tQooopDCiiigApp/wBcv+6f6U6mn/XL/un+lADqKKKACiiigAooooAKKKKACiiigAooooAh+2W3/PzD/wB9ij7Zbf8APzD/AN9ipqKAIftlt/z8w/8AfYo+2W3/AD8w/wDfYqaigCu15bbk/wBIi+9/fHoad9stv+fmH/vsVI/3k/3v6GnUAQ/bLb/n5h/77FH2y2/5+Yf++xU1FAEP2y2/5+Yf++xR9stv+fmH/vsVNRQBD9stv+fmH/vsUfbLb/n5h/77FTUUAQ/bLb/n5h/77FH2y2/5+Yf++xU1FAEP2y2/5+Yf++xR9stv+fmH/vsVNRQBD9stv+fmH/vsUfbLb/n5h/77FTUUAQ/bLb/n5h/77FH2y2/5+Yf++xU1FAEP2y2/5+Yf++xR9stv+fmH/vsVNRQBXS8tgpzcRfeP8Y9ad9stv+fmH/vsVJH90/7x/nTqAIftlt/z8w/99ij7Zbf8/MP/AH2KmooAh+2W3/PzD/32KPtlt/z8w/8AfYqaigCH7Zbf8/MP/fYo+2W3/PzD/wB9ipqKAIftlt/z8w/99ij7Zbf8/MP/AH2KmooAh+2W3/PzD/32Kaby281T9oixtP8AGParFNP+uX/dP9KAI/tlt/z8w/8AfYo+2W3/AD8w/wDfYqaigCH7Zbf8/MP/AH2KPtlt/wA/MP8A32KmooAh+2W3/PzD/wB9ij7Zbf8APzD/AN9ipqKAIftlt/z8w/8AfYo+2W3/AD8w/wDfYqaigCH7Zbf8/MP/AH2KPtlt/wA/MP8A32KmooAh+2W3/PzD/wB9iipqKAM7XreS40e48m8uLQxozlrdlVmwp4yQSBnByMHjr1rm0afWIfCmm3d3eJBd6a11cSW91JDJK6JFgGRCH5MjMcEZ288Zrs5YkmheKUbkdSrDPUHrWbd+HNMvdOtLKWGVIrMAWzQXMkMkQC7flkRg4+Xg88jrSXX5fr/mg6p+v42IPCF1Pd+Gomupnnkinng82Q5Z1jmeNSx7nCjJ7mtuobOzt9PsorSyiWGCFQqIvQD/AD3qaqerEtENf7yf739DTqa/3k/3v6GnUhmB4pt4GgjuNQv76K0jBUWlhNJDLczMRsAeNlYnggLnB3ZPSsfUrC+j8O2H9t6pqEmpfZEgt7WwuXheW8wSWLRld/bIYbAFZiMdOh1nw1p2vzWs2ofbFltN3kvaX89sy7gAeYnXPAxz/Wqtz4I0e6a1eZ9V820iaGKZNZvEk2M24hnWUM2SB94noPQUraf1/V/66Dv/AF/X9feXLq2uZfD8Vtd37w3JSNZp7chGkbI3KpONpfkAjBG7jBwa5zQbSPU9N1Wx1eXWLGCzuw6W1xqsy3VqnlKfnuI5SXUksw/eOOcZyNq9JJ4e06eza1uEnniaKOIia6lkOIySjbmYkOCc787sgHPApsPhrS4NIudNEEkltdgi4M1xJLJNkY+eRmLtwAOSeOOlN6tiWiSOb0zRrH/hC5tR1i91uKyZ5L+MNrN4skMO35FL+aHPyKGKkkBmOKpGHXLWz0Tw/ai7mmv4bm/uUutXmjdFVkxAbgh5QF84DK8koOQCa769sLbULUW93F5kIdH2biASrBlzjqMgcdD3qDVdFstZijS+SXMTbo5ILiSCRD0OHjZWGRwQDz3o0/r+vT7vMF5nH3mt6pr91YwaRZSm3jsjdXEDak1oxcSGPZ5qKzMVKNwMBs/MwHBn1aU6zbWWpaXqeoLf6pDHLpFtDM8SwKVBaSWNW2yKNwLbwR0UckZ6C68KaNeWtrbvatFHaJ5cItp5ICqHGUJjYEqcDKnIOOQagvPBOi3l/wDbCt/bTeSlvmx1S5tV8tM7V2xSKuBk9u9C037/AOf/AAEK35f5f8FmDqktzJca9q/9oXkVxpOoQ29rFFcukITZAzB4gdjljI3LAkAjGMZqlqfjrTrr4iaNbW/iezt7e11OSymslvUVp38iUEyLnO0SBEUHq2Tz8tdnceF9JutTS/nt5GnUoxH2iQRyMmNjPGG2SMuBhmBIwMHir9zYW15cWk9zHvks5TNA24jY5RkJ46/K7Dn1px0f9ff8x9zg9M1G9svEGlpdNq41C5nni1UXfm/ZVVY5HVot37vAKqAYux+fms7TNe1TR9Nk1W4Gol/7Eub1zf3Jki1KZFRllgTc3kpjcdhEZw4+U7SR6PFo1jFqc2oCJnuplKGSWV5NinGVQMSEU4BIXAJGTVXT/CejaZM0lrasS0ZhVJp5JkijOMpGjsVjU4GVQAcDjgUlovl/mUmk/mZXh19QSS40fVjcW1/cW4ulvEv/ALUXGQrEB0CRMDj5FUpzwTzVax8SxeHfBF7f6xqAcw6nd2sMt9cBQzfaXSNWduAAAMnsAT2ro9J8PabojyPp8UgeQBS81xJMyqM4RS7EqgycKMKOwq3ZWFtp0LxWcflpJNJOw3E5d3LsefVmJx0pv+vv/wAiVpGz7/o/1PNtK1k6poEiReILnXbWDWJRqc+kTtLOIGRymwQEyKnmbcBOQo9Aa7HwXezXuhSmVrh0gvJ4IXuv9a0aSFV3Z5yMbefm455zWi+jWTWdzbKs0Ud1KZpTBcSROXJBJDqwYZwOAQO3Q1ZtLO3sLSO1soUggiGEjQYAFKOiV+y/Jf5fiH+b/X/P8CSP7p/3j/OvMBFrGpav4hOmWviB9Qj1GWKz1AavtsbYhV2hoDPyoJ5HktnNenx/dP8AvH+dQWen2tgbg2kXlm5maeX5idzkAE8njoOBxSWk+by/Vf5MUrtWXf8ARnJX3i3V9PsdUvpo7V4IdQGn2sUNrNLJuLqvmMEJZsbj8irk4HIzxDaeLPEF+tlZwQwwXNxqD2n2y90q5to5UFs0okSCRlcfMNpBbHBwa6yXQtNmsrm0ltg0F1KZ5VLNzISDuBzlSCAQRjBAIxWPqHgu2uDpEFu04tbO6knneS+nNw26F4wRNuMm4Fl53DAHXtThpG0t7L8l+t/vB3vp/X9Kxn3Xi3VYtNjjMtjDqEdxPDOYtPub0yeUwG6O3hO/aQwyxYhCQPmzmoLfxtcXEB1SG0RZLrR9OmiieSQqktzNJGAwzjapIJIUMRnJ6AdIfCGim3tIUtpoltN3lPDdSxudx3OHdWDOGIywYnceTk0+HwpolvZtaxWCiBrOOxMbOzDyYyxReT2Ltz1568Cmttf6/wAr/gWmrP8Arrf8jO8Npfx+LtdXVp7ae4EFpmS2haJGGJP4GZiO/wDEa6ms7StA0/RWmewSbzJwollnuZJ3k2525aRmJxkjr0wOwrRoM4qyCiiikUFNP+uX/dP9KdTT/rl/3T/SgB1FFFABRRRQAUUUUAFFFFABRRRQAUUUUAQ7rr/njD/39P8A8TRuuv8AnjD/AN/T/wDE1FqOqWWkWv2jUrmO3izgFzyxwTgDqTgE4HPBqtfeJdH03R49Uvr6OG0li86N2By6bd2QuNx45PHFAdbF7ddf88Yf+/p/+Jo3XX/PGH/v6f8A4mpgcgEdDRQBXZrncn7qL73/AD1Pof8AZp266/54w/8Af0//ABNSP95P97+hqrqerWOjWhudTuUt4uQCx5YgE4AHJOATgehovbcCbddf88Yf+/p/+Jo3XX/PGH/v6f8A4mqN94j0zTre2mnlmcXS74Y7e2lnkdeMsI41Zto3DJxgZGcZq0uqWL6SNUW7h+wGLzxcbxs2Yzuz6Yo2DfYk3XX/ADxh/wC/p/8AiaN11/zxh/7+n/4ms+y8T6TfwXUsdy8C2aeZcC8gktmjTnDlZVU7TtOGxg4PPFLN4k0230NtXma5SzDqgJs5vMZmcIoWPZvbLEAYU5yMZFAbl/ddf88Yf+/p/wDiaN11/wA8Yf8Av6f/AImsxvFemR6MdTlTUY7fzRCEk0u5WZnJAAWEx+Y3XqFI/Kp11/T/AOwZdZnea0sYUaSR7y2lt2RV6kpIqsOnpz2zRsrsN9C5uuv+eMP/AH9P/wATRuuv+eMP/f0//E1m3nivR7GC1mnuZCl3D58Xk20sp8rAPmMEUlEGRlmwBnk0XvivRrC5SG4u2y6qxkigkkiiVvutJIqlIwexcgGjyFdWuaW66/54w/8Af0//ABNG66/54w/9/T/8TWfceKNJtdXGmz3Li43pGxEEjRRu2NqPKF2IzZGFZgTkYHIpreKdMXXH0hRfS3UcixSGHTriSKNmUMA0qoY1+VlPLDAIzRvsM0t11/zxh/7+n/4mjddf88Yf+/p/+Jqu+s6fHrkejvdINQlt2uVgwc+UrBSxPQDLAc9ecdDTdP17TNV+0nTrxLhbXHmvGCVGRkEHowx3GaL6XDyLW66/54w/9/T/APE0brr/AJ4w/wDf0/8AxNZFh4y0bUbGa9he9itIYhM093p1xbIyHoVaRFD57BcnketX9K1my1mB5bB5P3b7JI54HhkjOM4aOQKy8EEZHIOaAuWN11/zxh/7+n/4mjddf88Yf+/p/wDiazP+Et0RtLk1CK98+2S5a1zBC8rPKpIKIiqWc5B+6D0JrQ0/UbXVbJLuwl8yFiRkqVKkHBVlIBVgQQQQCCMGjfUBUa52nEUX3j/y1Pr/ALtO3XX/ADxh/wC/p/8Aiakj+6f94/zrJvPFWj2GoNZ3NzIJEIWWRLeR4oCcECSVVKRkgg4Zh1HrQBpbrr/njD/39P8A8TRuuv8AnjD/AN/T/wDE1NUN3cpZWU91KGKQRtIwUckAZOPypNpK7Gld2Qbrr/njD/39P/xNG66/54w/9/T/APE0trcJd2cNzGGCTRrIobqARkZqWqaadmSmmroh3XX/ADxh/wC/p/8AiaN11/zxh/7+n/4mpqKQyHddf88Yf+/p/wDiaN11/wA8Yf8Av6f/AImpqKAId11/zxh/7+n/AOJppa581f3UWdp/5an2/wBmrFNP+uX/AHT/AEoAj3XX/PGH/v6f/iaN11/zxh/7+n/4mpqKAId11/zxh/7+n/4mjddf88Yf+/p/+JqaigCHddf88Yf+/p/+Jo3XX/PGH/v6f/iamooAh3XX/PGH/v6f/iaN11/zxh/7+n/4mpqKAId11/zxh/7+n/4mjddf88Yf+/p/+JqaigCHddf88Yf+/p/+JoqaigCtqKs+l3SIpZmhcBQMknaa5rU7K6k+C9zYx20zXbaEYhbrGTIX8jG3b1znjHWuuopx0bfp+F/8wWklLtf8bf5DU4jXPoKdRRSElZWGv95P97+hqprUby6BqEcSM7vbSKqqMliVOABVt/vJ/vf0NOqZx54uPcqLs0zjtV1WTRNC0eKKwvBfT2ywfbINLmuzZoFXeWWNGOeBhTgEjngGtC0utLs/CaQW2n6hcWNtYl1t5dPm8yRE427HUEucfdIyeuMV0NFXJttvuTFcqSPNpzL4n0bUrmODVI9Una1kmiOm3Nr5dtFOH8mN5Y1DvtMh45LMeAMYuR2y3Wi6iktrr11oYureW3Wd7hbxNpDO6+Z+/KqwUgfe4bb/AA13tFL+v6+4evU4GK38/wAPTf2lba9caPHqQksm33AvooBEPmI/4+G/eFwB9/BB6Cq8tj4ovtCjW0so77TYpbiSGHV7yaC5dQf3G8eU7Nt+YgPhshCeQa9GopSV01/XTX103GnZp/1/Wp5fLa6suk6OdUi1LSZP7GW1J0a3e8aVz/yxlzETGMBTnahBZgHGMm/qOopFBZ6DqOjX1jBJZwvqbWOk3N0knygfZ0eKNxxtwzE5C4AyTlfQaKpvVvzv+b/N/wBakRikkuyt+S/T+tDgb6O583VdISwvWuNS1W3u7eZbVzEYh5BZmkxtQr5bDaxDHAwDkU/ULZ4PFUkmj2utW+rz6hDI7B52spoP3ayM2P3I/dqRg/vMqMdq7uiktGn2/S3+Wvcro1/Wp55pmneKrf4hadearpOnHzYbw3V5b38sgAZodq4MChcBAFTPIDHOQc9FFaz/ANseJWNrLIk8UQiUHZ52IiCFY8deM9q6GiplFSiojvrc88sNIS+iurDTTrlppMVrG7f2kk7tDdRSK8flLL8zAbPmCfIcKF6mpLew8U39prF/bNC91qH2eBPtKSacrQpu3sq4lkjJDlRuywIzwMCu/oqnd/153/4HpoSlb+vK39eZ5fFYa3Bo7Lf6SdJhttbaZJtHL3c1tH5bDfFG0I3DO1B8j5V2+UYrsPBcM8GgMLiOdd91NIkt1GY5p1ZywkkQgbWbJJGFx/dX7o6CiiOit5W/L/If9fn/AJjY/un/AHj/ADrjUnk0iDWNIu9GutUuL27uJbeM2rPb3aSnIV5QhSMAHYd+Dheh4z2Uf3T/ALx/nTqOt/66f5Dvpb+v61PL/EVpfy+No7my0rybq31KzxOulzzyvb74g7Jd7hHFHguGiAPAYkckh40xofEGp/YtJuZp547zz7mbT5Ip1DK5UG4B8u5QnCpGMsoKnqtem0UpLmhyev4qwXs7+n4HGeHdBTRfEOmNYac1pHcaOwvXWMjzJlaLYZG7vgvy3OM+ldnRRVylf+vNsiMeX+vKwUUUVJQUUUUAFNP+uX/dP9KdTT/rl/3T/SgB1FFFABRRRQAUUUUAFFFFABRRRQAUUUUAQ/ZY/wC9N/3+f/Gj7LH/AHpv+/z/AONTUUAQ/ZY/703/AH+f/Gj7LH/em/7/AD/41NRQBD9kj/vS/wDf5/8AGj7LH/em/wC/z/41NRQBD9lj/vTf9/n/AMaPssf96b/v8/8AjU1FAEP2WP8AvTf9/n/xo+yx/wB6b/v8/wDjU1FAEP2WP+9N/wB/n/xo+yx/3pv+/wA/+NTUUAQ/ZY/703/f5/8AGj7LH/em/wC/z/41NRQBD9lj/vTf9/n/AMaPssf96b/v8/8AjU1FAEP2WP8AvTf9/n/xo+yx/wB6b/v8/wDjU1FAEP2WP+9N/wB/n/xo+yx/3pv+/wA/+NTUUAQ/ZY/703/f5/8AGj7LH/em/wC/z/41NRQBD9kjHRpf+/z/AONH2WP+9N/3+f8AxqaigCH7LH/em/7/AD/40fZY/wC9N/3+f/GpqKAIfssf96b/AL/P/jR9lj/vTf8Af5/8amooAh+yx/3pv+/z/wCNH2WP+9N/3+f/ABqaigCH7LH/AHpv+/z/AONH2WP+9N/3+f8AxqaigCH7LH/em/7/AD/40fZI853S5/67P/jU1FAEP2WP+9N/3+f/ABo+yx/3pv8Av8/+NTUUAQ/ZY/703/f5/wDGj7LH/em/7/P/AI1NRQBD9lj/AL03/f5/8aPssf8Aem/7/P8A41NRQBD9lj/vTf8Af5/8aPssf96b/v8AP/jU1FAEP2WP+9N/3+f/ABo+yx/3pv8Av8/+NTUUAQ/ZY/703/f5/wDGipqKACiiigAooooAKKKKACiiigAooooAKKKKACiiigAooooAKKKKACiiigAooooAKKKKACiiigAooooAKKKKACiiigAooooAKKKKACiiigAooooAKKKKACiiigAooooA/9k=)"
      ],
      "metadata": {
        "id": "E8gjWy2HCz_F"
      }
    },
    {
      "cell_type": "code",
      "source": [
        "%%bigquery --project exam-one\n",
        "select count(*) from bigquery-public-data.chicago_taxi_trips.taxi_trips where trip_seconds > (select avg(trip_seconds) as avgtime from bigquery-public-data.chicago_taxi_trips.taxi_trips)"
      ],
      "metadata": {
        "id": "i6-yujMEDi-P"
      },
      "execution_count": null,
      "outputs": []
    },
    {
      "cell_type": "markdown",
      "source": [
        "Results : 62143014"
      ],
      "metadata": {
        "id": "G-rzAQm1Mg7_"
      }
    },
    {
      "cell_type": "markdown",
      "source": [
        "**Question 3**\n",
        "\n",
        "**(a) Approximately how long did you work on this exam?**\n",
        "\n",
        "**Ans:** It took 3 hours for me to complete this exam.\n",
        "\n",
        "\n",
        "**(b) Which was the hardest and easiest topic from this section?**\n",
        "\n",
        "**Ans:** The easiest topic was getting the data from wikipedia and the hardest point was to calculate the \"How many trips, that had a non-zero recorded time, were above the average time?\"\n",
        "\n",
        "**(c) Which method of gathering data are you most excited to use again?**\n",
        "\n",
        "\n",
        "**Ans:** i will be excited to gather data using online tool like wikipedia and bigquery."
      ],
      "metadata": {
        "id": "4iijY6PJMrs9"
      }
    },
    {
      "cell_type": "markdown",
      "source": [
        ""
      ],
      "metadata": {
        "id": "cfrVqtF0M4el"
      }
    }
  ]
}